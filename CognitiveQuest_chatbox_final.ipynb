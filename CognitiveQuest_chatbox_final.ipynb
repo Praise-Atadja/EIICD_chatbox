{
  "cells": [
    {
      "cell_type": "markdown",
      "metadata": {
        "id": "view-in-github",
        "colab_type": "text"
      },
      "source": [
        "<a href=\"https://colab.research.google.com/github/Praise-Atadja/EIICD_chatbox/blob/main/CognitiveQuest_chatbox_final.ipynb\" target=\"_parent\"><img src=\"https://colab.research.google.com/assets/colab-badge.svg\" alt=\"Open In Colab\"/></a>"
      ]
    },
    {
      "cell_type": "markdown",
      "metadata": {
        "id": "5bGXGwrGhp7j"
      },
      "source": [
        "\n",
        "\n",
        "# **PROJECT NAME:**\n",
        "\n",
        "##EARLY INTERVENTION INTELLIGENCE FOR COGNITIVE DEVELOPMENT (EIICD) CHATBOX\n",
        "\n",
        "\n",
        "---"
      ]
    },
    {
      "cell_type": "code",
      "execution_count": 1,
      "metadata": {
        "colab": {
          "base_uri": "https://localhost:8080/"
        },
        "id": "TrfETgepDqPZ",
        "outputId": "aa2a28bc-80d3-4ffe-d75b-bbc52add75fd"
      },
      "outputs": [
        {
          "output_type": "stream",
          "name": "stdout",
          "text": [
            "Requirement already satisfied: datasets in /usr/local/lib/python3.10/dist-packages (2.20.0)\n",
            "Requirement already satisfied: filelock in /usr/local/lib/python3.10/dist-packages (from datasets) (3.15.1)\n",
            "Requirement already satisfied: numpy>=1.17 in /usr/local/lib/python3.10/dist-packages (from datasets) (1.25.2)\n",
            "Requirement already satisfied: pyarrow>=15.0.0 in /usr/local/lib/python3.10/dist-packages (from datasets) (16.1.0)\n",
            "Requirement already satisfied: pyarrow-hotfix in /usr/local/lib/python3.10/dist-packages (from datasets) (0.6)\n",
            "Requirement already satisfied: dill<0.3.9,>=0.3.0 in /usr/local/lib/python3.10/dist-packages (from datasets) (0.3.8)\n",
            "Requirement already satisfied: pandas in /usr/local/lib/python3.10/dist-packages (from datasets) (2.0.3)\n",
            "Requirement already satisfied: requests>=2.32.2 in /usr/local/lib/python3.10/dist-packages (from datasets) (2.32.3)\n",
            "Requirement already satisfied: tqdm>=4.66.3 in /usr/local/lib/python3.10/dist-packages (from datasets) (4.66.4)\n",
            "Requirement already satisfied: xxhash in /usr/local/lib/python3.10/dist-packages (from datasets) (3.4.1)\n",
            "Requirement already satisfied: multiprocess in /usr/local/lib/python3.10/dist-packages (from datasets) (0.70.16)\n",
            "Requirement already satisfied: fsspec[http]<=2024.5.0,>=2023.1.0 in /usr/local/lib/python3.10/dist-packages (from datasets) (2023.6.0)\n",
            "Requirement already satisfied: aiohttp in /usr/local/lib/python3.10/dist-packages (from datasets) (3.9.5)\n",
            "Requirement already satisfied: huggingface-hub>=0.21.2 in /usr/local/lib/python3.10/dist-packages (from datasets) (0.23.4)\n",
            "Requirement already satisfied: packaging in /usr/local/lib/python3.10/dist-packages (from datasets) (24.1)\n",
            "Requirement already satisfied: pyyaml>=5.1 in /usr/local/lib/python3.10/dist-packages (from datasets) (6.0.1)\n",
            "Requirement already satisfied: aiosignal>=1.1.2 in /usr/local/lib/python3.10/dist-packages (from aiohttp->datasets) (1.3.1)\n",
            "Requirement already satisfied: attrs>=17.3.0 in /usr/local/lib/python3.10/dist-packages (from aiohttp->datasets) (23.2.0)\n",
            "Requirement already satisfied: frozenlist>=1.1.1 in /usr/local/lib/python3.10/dist-packages (from aiohttp->datasets) (1.4.1)\n",
            "Requirement already satisfied: multidict<7.0,>=4.5 in /usr/local/lib/python3.10/dist-packages (from aiohttp->datasets) (6.0.5)\n",
            "Requirement already satisfied: yarl<2.0,>=1.0 in /usr/local/lib/python3.10/dist-packages (from aiohttp->datasets) (1.9.4)\n",
            "Requirement already satisfied: async-timeout<5.0,>=4.0 in /usr/local/lib/python3.10/dist-packages (from aiohttp->datasets) (4.0.3)\n",
            "Requirement already satisfied: typing-extensions>=3.7.4.3 in /usr/local/lib/python3.10/dist-packages (from huggingface-hub>=0.21.2->datasets) (4.12.2)\n",
            "Requirement already satisfied: charset-normalizer<4,>=2 in /usr/local/lib/python3.10/dist-packages (from requests>=2.32.2->datasets) (3.3.2)\n",
            "Requirement already satisfied: idna<4,>=2.5 in /usr/local/lib/python3.10/dist-packages (from requests>=2.32.2->datasets) (3.7)\n",
            "Requirement already satisfied: urllib3<3,>=1.21.1 in /usr/local/lib/python3.10/dist-packages (from requests>=2.32.2->datasets) (2.0.7)\n",
            "Requirement already satisfied: certifi>=2017.4.17 in /usr/local/lib/python3.10/dist-packages (from requests>=2.32.2->datasets) (2024.6.2)\n",
            "Requirement already satisfied: python-dateutil>=2.8.2 in /usr/local/lib/python3.10/dist-packages (from pandas->datasets) (2.8.2)\n",
            "Requirement already satisfied: pytz>=2020.1 in /usr/local/lib/python3.10/dist-packages (from pandas->datasets) (2023.4)\n",
            "Requirement already satisfied: tzdata>=2022.1 in /usr/local/lib/python3.10/dist-packages (from pandas->datasets) (2024.1)\n",
            "Requirement already satisfied: six>=1.5 in /usr/local/lib/python3.10/dist-packages (from python-dateutil>=2.8.2->pandas->datasets) (1.16.0)\n"
          ]
        }
      ],
      "source": [
        "!pip install datasets"
      ]
    },
    {
      "cell_type": "code",
      "source": [
        "pip install transformers[torch]"
      ],
      "metadata": {
        "id": "DqJUdBHRrpv1",
        "outputId": "86e527f4-c316-48c8-a248-b4c18ceeb648",
        "colab": {
          "base_uri": "https://localhost:8080/"
        }
      },
      "execution_count": 2,
      "outputs": [
        {
          "output_type": "stream",
          "name": "stdout",
          "text": [
            "Requirement already satisfied: transformers[torch] in /usr/local/lib/python3.10/dist-packages (4.41.2)\n",
            "Requirement already satisfied: filelock in /usr/local/lib/python3.10/dist-packages (from transformers[torch]) (3.15.1)\n",
            "Requirement already satisfied: huggingface-hub<1.0,>=0.23.0 in /usr/local/lib/python3.10/dist-packages (from transformers[torch]) (0.23.4)\n",
            "Requirement already satisfied: numpy>=1.17 in /usr/local/lib/python3.10/dist-packages (from transformers[torch]) (1.25.2)\n",
            "Requirement already satisfied: packaging>=20.0 in /usr/local/lib/python3.10/dist-packages (from transformers[torch]) (24.1)\n",
            "Requirement already satisfied: pyyaml>=5.1 in /usr/local/lib/python3.10/dist-packages (from transformers[torch]) (6.0.1)\n",
            "Requirement already satisfied: regex!=2019.12.17 in /usr/local/lib/python3.10/dist-packages (from transformers[torch]) (2024.5.15)\n",
            "Requirement already satisfied: requests in /usr/local/lib/python3.10/dist-packages (from transformers[torch]) (2.32.3)\n",
            "Requirement already satisfied: tokenizers<0.20,>=0.19 in /usr/local/lib/python3.10/dist-packages (from transformers[torch]) (0.19.1)\n",
            "Requirement already satisfied: safetensors>=0.4.1 in /usr/local/lib/python3.10/dist-packages (from transformers[torch]) (0.4.3)\n",
            "Requirement already satisfied: tqdm>=4.27 in /usr/local/lib/python3.10/dist-packages (from transformers[torch]) (4.66.4)\n",
            "Requirement already satisfied: torch in /usr/local/lib/python3.10/dist-packages (from transformers[torch]) (2.3.0+cu121)\n",
            "Requirement already satisfied: accelerate>=0.21.0 in /usr/local/lib/python3.10/dist-packages (from transformers[torch]) (0.31.0)\n",
            "Requirement already satisfied: psutil in /usr/local/lib/python3.10/dist-packages (from accelerate>=0.21.0->transformers[torch]) (5.9.5)\n",
            "Requirement already satisfied: fsspec>=2023.5.0 in /usr/local/lib/python3.10/dist-packages (from huggingface-hub<1.0,>=0.23.0->transformers[torch]) (2023.6.0)\n",
            "Requirement already satisfied: typing-extensions>=3.7.4.3 in /usr/local/lib/python3.10/dist-packages (from huggingface-hub<1.0,>=0.23.0->transformers[torch]) (4.12.2)\n",
            "Requirement already satisfied: sympy in /usr/local/lib/python3.10/dist-packages (from torch->transformers[torch]) (1.12.1)\n",
            "Requirement already satisfied: networkx in /usr/local/lib/python3.10/dist-packages (from torch->transformers[torch]) (3.3)\n",
            "Requirement already satisfied: jinja2 in /usr/local/lib/python3.10/dist-packages (from torch->transformers[torch]) (3.1.4)\n",
            "Requirement already satisfied: nvidia-cuda-nvrtc-cu12==12.1.105 in /usr/local/lib/python3.10/dist-packages (from torch->transformers[torch]) (12.1.105)\n",
            "Requirement already satisfied: nvidia-cuda-runtime-cu12==12.1.105 in /usr/local/lib/python3.10/dist-packages (from torch->transformers[torch]) (12.1.105)\n",
            "Requirement already satisfied: nvidia-cuda-cupti-cu12==12.1.105 in /usr/local/lib/python3.10/dist-packages (from torch->transformers[torch]) (12.1.105)\n",
            "Requirement already satisfied: nvidia-cudnn-cu12==8.9.2.26 in /usr/local/lib/python3.10/dist-packages (from torch->transformers[torch]) (8.9.2.26)\n",
            "Requirement already satisfied: nvidia-cublas-cu12==12.1.3.1 in /usr/local/lib/python3.10/dist-packages (from torch->transformers[torch]) (12.1.3.1)\n",
            "Requirement already satisfied: nvidia-cufft-cu12==11.0.2.54 in /usr/local/lib/python3.10/dist-packages (from torch->transformers[torch]) (11.0.2.54)\n",
            "Requirement already satisfied: nvidia-curand-cu12==10.3.2.106 in /usr/local/lib/python3.10/dist-packages (from torch->transformers[torch]) (10.3.2.106)\n",
            "Requirement already satisfied: nvidia-cusolver-cu12==11.4.5.107 in /usr/local/lib/python3.10/dist-packages (from torch->transformers[torch]) (11.4.5.107)\n",
            "Requirement already satisfied: nvidia-cusparse-cu12==12.1.0.106 in /usr/local/lib/python3.10/dist-packages (from torch->transformers[torch]) (12.1.0.106)\n",
            "Requirement already satisfied: nvidia-nccl-cu12==2.20.5 in /usr/local/lib/python3.10/dist-packages (from torch->transformers[torch]) (2.20.5)\n",
            "Requirement already satisfied: nvidia-nvtx-cu12==12.1.105 in /usr/local/lib/python3.10/dist-packages (from torch->transformers[torch]) (12.1.105)\n",
            "Requirement already satisfied: triton==2.3.0 in /usr/local/lib/python3.10/dist-packages (from torch->transformers[torch]) (2.3.0)\n",
            "Requirement already satisfied: nvidia-nvjitlink-cu12 in /usr/local/lib/python3.10/dist-packages (from nvidia-cusolver-cu12==11.4.5.107->torch->transformers[torch]) (12.5.40)\n",
            "Requirement already satisfied: charset-normalizer<4,>=2 in /usr/local/lib/python3.10/dist-packages (from requests->transformers[torch]) (3.3.2)\n",
            "Requirement already satisfied: idna<4,>=2.5 in /usr/local/lib/python3.10/dist-packages (from requests->transformers[torch]) (3.7)\n",
            "Requirement already satisfied: urllib3<3,>=1.21.1 in /usr/local/lib/python3.10/dist-packages (from requests->transformers[torch]) (2.0.7)\n",
            "Requirement already satisfied: certifi>=2017.4.17 in /usr/local/lib/python3.10/dist-packages (from requests->transformers[torch]) (2024.6.2)\n",
            "Requirement already satisfied: MarkupSafe>=2.0 in /usr/local/lib/python3.10/dist-packages (from jinja2->torch->transformers[torch]) (2.1.5)\n",
            "Requirement already satisfied: mpmath<1.4.0,>=1.1.0 in /usr/local/lib/python3.10/dist-packages (from sympy->torch->transformers[torch]) (1.3.0)\n"
          ]
        }
      ]
    },
    {
      "cell_type": "code",
      "execution_count": 3,
      "metadata": {
        "colab": {
          "base_uri": "https://localhost:8080/"
        },
        "id": "A_m1VKAIXdI5",
        "outputId": "9dbe9fa4-ff1d-4b68-c7ef-08b47c53eb7f"
      },
      "outputs": [
        {
          "output_type": "stream",
          "name": "stdout",
          "text": [
            "Requirement already satisfied: accelerate in /usr/local/lib/python3.10/dist-packages (0.31.0)\n",
            "Requirement already satisfied: numpy>=1.17 in /usr/local/lib/python3.10/dist-packages (from accelerate) (1.25.2)\n",
            "Requirement already satisfied: packaging>=20.0 in /usr/local/lib/python3.10/dist-packages (from accelerate) (24.1)\n",
            "Requirement already satisfied: psutil in /usr/local/lib/python3.10/dist-packages (from accelerate) (5.9.5)\n",
            "Requirement already satisfied: pyyaml in /usr/local/lib/python3.10/dist-packages (from accelerate) (6.0.1)\n",
            "Requirement already satisfied: torch>=1.10.0 in /usr/local/lib/python3.10/dist-packages (from accelerate) (2.3.0+cu121)\n",
            "Requirement already satisfied: huggingface-hub in /usr/local/lib/python3.10/dist-packages (from accelerate) (0.23.4)\n",
            "Requirement already satisfied: safetensors>=0.3.1 in /usr/local/lib/python3.10/dist-packages (from accelerate) (0.4.3)\n",
            "Requirement already satisfied: filelock in /usr/local/lib/python3.10/dist-packages (from torch>=1.10.0->accelerate) (3.15.1)\n",
            "Requirement already satisfied: typing-extensions>=4.8.0 in /usr/local/lib/python3.10/dist-packages (from torch>=1.10.0->accelerate) (4.12.2)\n",
            "Requirement already satisfied: sympy in /usr/local/lib/python3.10/dist-packages (from torch>=1.10.0->accelerate) (1.12.1)\n",
            "Requirement already satisfied: networkx in /usr/local/lib/python3.10/dist-packages (from torch>=1.10.0->accelerate) (3.3)\n",
            "Requirement already satisfied: jinja2 in /usr/local/lib/python3.10/dist-packages (from torch>=1.10.0->accelerate) (3.1.4)\n",
            "Requirement already satisfied: fsspec in /usr/local/lib/python3.10/dist-packages (from torch>=1.10.0->accelerate) (2023.6.0)\n",
            "Requirement already satisfied: nvidia-cuda-nvrtc-cu12==12.1.105 in /usr/local/lib/python3.10/dist-packages (from torch>=1.10.0->accelerate) (12.1.105)\n",
            "Requirement already satisfied: nvidia-cuda-runtime-cu12==12.1.105 in /usr/local/lib/python3.10/dist-packages (from torch>=1.10.0->accelerate) (12.1.105)\n",
            "Requirement already satisfied: nvidia-cuda-cupti-cu12==12.1.105 in /usr/local/lib/python3.10/dist-packages (from torch>=1.10.0->accelerate) (12.1.105)\n",
            "Requirement already satisfied: nvidia-cudnn-cu12==8.9.2.26 in /usr/local/lib/python3.10/dist-packages (from torch>=1.10.0->accelerate) (8.9.2.26)\n",
            "Requirement already satisfied: nvidia-cublas-cu12==12.1.3.1 in /usr/local/lib/python3.10/dist-packages (from torch>=1.10.0->accelerate) (12.1.3.1)\n",
            "Requirement already satisfied: nvidia-cufft-cu12==11.0.2.54 in /usr/local/lib/python3.10/dist-packages (from torch>=1.10.0->accelerate) (11.0.2.54)\n",
            "Requirement already satisfied: nvidia-curand-cu12==10.3.2.106 in /usr/local/lib/python3.10/dist-packages (from torch>=1.10.0->accelerate) (10.3.2.106)\n",
            "Requirement already satisfied: nvidia-cusolver-cu12==11.4.5.107 in /usr/local/lib/python3.10/dist-packages (from torch>=1.10.0->accelerate) (11.4.5.107)\n",
            "Requirement already satisfied: nvidia-cusparse-cu12==12.1.0.106 in /usr/local/lib/python3.10/dist-packages (from torch>=1.10.0->accelerate) (12.1.0.106)\n",
            "Requirement already satisfied: nvidia-nccl-cu12==2.20.5 in /usr/local/lib/python3.10/dist-packages (from torch>=1.10.0->accelerate) (2.20.5)\n",
            "Requirement already satisfied: nvidia-nvtx-cu12==12.1.105 in /usr/local/lib/python3.10/dist-packages (from torch>=1.10.0->accelerate) (12.1.105)\n",
            "Requirement already satisfied: triton==2.3.0 in /usr/local/lib/python3.10/dist-packages (from torch>=1.10.0->accelerate) (2.3.0)\n",
            "Requirement already satisfied: nvidia-nvjitlink-cu12 in /usr/local/lib/python3.10/dist-packages (from nvidia-cusolver-cu12==11.4.5.107->torch>=1.10.0->accelerate) (12.5.40)\n",
            "Requirement already satisfied: requests in /usr/local/lib/python3.10/dist-packages (from huggingface-hub->accelerate) (2.32.3)\n",
            "Requirement already satisfied: tqdm>=4.42.1 in /usr/local/lib/python3.10/dist-packages (from huggingface-hub->accelerate) (4.66.4)\n",
            "Requirement already satisfied: MarkupSafe>=2.0 in /usr/local/lib/python3.10/dist-packages (from jinja2->torch>=1.10.0->accelerate) (2.1.5)\n",
            "Requirement already satisfied: charset-normalizer<4,>=2 in /usr/local/lib/python3.10/dist-packages (from requests->huggingface-hub->accelerate) (3.3.2)\n",
            "Requirement already satisfied: idna<4,>=2.5 in /usr/local/lib/python3.10/dist-packages (from requests->huggingface-hub->accelerate) (3.7)\n",
            "Requirement already satisfied: urllib3<3,>=1.21.1 in /usr/local/lib/python3.10/dist-packages (from requests->huggingface-hub->accelerate) (2.0.7)\n",
            "Requirement already satisfied: certifi>=2017.4.17 in /usr/local/lib/python3.10/dist-packages (from requests->huggingface-hub->accelerate) (2024.6.2)\n",
            "Requirement already satisfied: mpmath<1.4.0,>=1.1.0 in /usr/local/lib/python3.10/dist-packages (from sympy->torch>=1.10.0->accelerate) (1.3.0)\n"
          ]
        }
      ],
      "source": [
        "!pip install accelerate -U"
      ]
    },
    {
      "cell_type": "code",
      "execution_count": 4,
      "metadata": {
        "colab": {
          "base_uri": "https://localhost:8080/"
        },
        "id": "bMQM7UhScrt6",
        "outputId": "03cf0eb2-6518-412b-d60e-92011605c6c1"
      },
      "outputs": [
        {
          "output_type": "stream",
          "name": "stdout",
          "text": [
            "Requirement already satisfied: transformers in /usr/local/lib/python3.10/dist-packages (4.41.2)\n",
            "Requirement already satisfied: filelock in /usr/local/lib/python3.10/dist-packages (from transformers) (3.15.1)\n",
            "Requirement already satisfied: huggingface-hub<1.0,>=0.23.0 in /usr/local/lib/python3.10/dist-packages (from transformers) (0.23.4)\n",
            "Requirement already satisfied: numpy>=1.17 in /usr/local/lib/python3.10/dist-packages (from transformers) (1.25.2)\n",
            "Requirement already satisfied: packaging>=20.0 in /usr/local/lib/python3.10/dist-packages (from transformers) (24.1)\n",
            "Requirement already satisfied: pyyaml>=5.1 in /usr/local/lib/python3.10/dist-packages (from transformers) (6.0.1)\n",
            "Requirement already satisfied: regex!=2019.12.17 in /usr/local/lib/python3.10/dist-packages (from transformers) (2024.5.15)\n",
            "Requirement already satisfied: requests in /usr/local/lib/python3.10/dist-packages (from transformers) (2.32.3)\n",
            "Requirement already satisfied: tokenizers<0.20,>=0.19 in /usr/local/lib/python3.10/dist-packages (from transformers) (0.19.1)\n",
            "Requirement already satisfied: safetensors>=0.4.1 in /usr/local/lib/python3.10/dist-packages (from transformers) (0.4.3)\n",
            "Requirement already satisfied: tqdm>=4.27 in /usr/local/lib/python3.10/dist-packages (from transformers) (4.66.4)\n",
            "Requirement already satisfied: fsspec>=2023.5.0 in /usr/local/lib/python3.10/dist-packages (from huggingface-hub<1.0,>=0.23.0->transformers) (2023.6.0)\n",
            "Requirement already satisfied: typing-extensions>=3.7.4.3 in /usr/local/lib/python3.10/dist-packages (from huggingface-hub<1.0,>=0.23.0->transformers) (4.12.2)\n",
            "Requirement already satisfied: charset-normalizer<4,>=2 in /usr/local/lib/python3.10/dist-packages (from requests->transformers) (3.3.2)\n",
            "Requirement already satisfied: idna<4,>=2.5 in /usr/local/lib/python3.10/dist-packages (from requests->transformers) (3.7)\n",
            "Requirement already satisfied: urllib3<3,>=1.21.1 in /usr/local/lib/python3.10/dist-packages (from requests->transformers) (2.0.7)\n",
            "Requirement already satisfied: certifi>=2017.4.17 in /usr/local/lib/python3.10/dist-packages (from requests->transformers) (2024.6.2)\n"
          ]
        }
      ],
      "source": [
        "!pip install transformers"
      ]
    },
    {
      "cell_type": "code",
      "execution_count": 1,
      "metadata": {
        "id": "Gc2u7CfVCEcR",
        "outputId": "65ba8716-7abd-4d17-a52e-d762b857671a",
        "colab": {
          "base_uri": "https://localhost:8080/"
        }
      },
      "outputs": [
        {
          "output_type": "stream",
          "name": "stdout",
          "text": [
            "Drive already mounted at /content/drive; to attempt to forcibly remount, call drive.mount(\"/content/drive\", force_remount=True).\n"
          ]
        }
      ],
      "source": [
        "# Import necessary libraries\n",
        "import os\n",
        "import numpy as np\n",
        "import tensorflow as tf\n",
        "import nltk\n",
        "from transformers import AutoModelForQuestionAnswering, AutoTokenizer, TrainingArguments, Trainer,  DataCollatorWithPadding, AutoModelForSequenceClassification\n",
        "from sklearn.model_selection import train_test_split\n",
        "import torch\n",
        "import tensorflow_hub as hub\n",
        "import pandas as pd\n",
        "import re\n",
        "from sklearn.metrics import classification_report\n",
        "import joblib\n",
        "from google.colab import drive\n",
        "drive.mount('/content/drive')\n"
      ]
    },
    {
      "cell_type": "code",
      "execution_count": 2,
      "metadata": {
        "id": "A0yf9nAY_vgn"
      },
      "outputs": [],
      "source": [
        "from nltk.tokenize import sent_tokenize, word_tokenize\n",
        "from nltk.stem import PorterStemmer\n",
        "def stemSentence(sentence):\n",
        "    porter = PorterStemmer()\n",
        "    token_words=word_tokenize(sentence)\n",
        "    token_words\n",
        "    stem_sentence=[]\n",
        "    for word in token_words:\n",
        "        stem_sentence.append(porter.stem(word))\n",
        "        stem_sentence.append(\" \")\n",
        "    return \"\".join(stem_sentence)"
      ]
    },
    {
      "cell_type": "markdown",
      "metadata": {
        "id": "Ay-utDPcxsne"
      },
      "source": [
        "## THE DATASET"
      ]
    },
    {
      "cell_type": "code",
      "execution_count": 3,
      "metadata": {
        "colab": {
          "base_uri": "https://localhost:8080/"
        },
        "id": "ro9sny39rlLj",
        "outputId": "23b1ca44-56f1-43fa-e9a9-d1a8f5c49c4b"
      },
      "outputs": [
        {
          "output_type": "execute_result",
          "data": {
            "text/plain": [
              "DatasetDict({\n",
              "    train: Dataset({\n",
              "        features: ['Context', 'Questions', 'Answers', 'Patterns', 'Articles'],\n",
              "        num_rows: 50\n",
              "    })\n",
              "})"
            ]
          },
          "metadata": {},
          "execution_count": 3
        }
      ],
      "source": [
        "from datasets import load_dataset\n",
        "\n",
        "# Load the dataset from the CSV file\n",
        "dataset = load_dataset('csv', data_files='/content/drive/MyDrive/Autism Articles/Autsim_Q&A_datatset.csv')\n",
        "\n",
        "dataset"
      ]
    },
    {
      "cell_type": "code",
      "execution_count": 4,
      "metadata": {
        "id": "87e9stcdKpiJ"
      },
      "outputs": [],
      "source": [
        "# Split the dataset into training and validation sets\n",
        "dataset = dataset['train'].train_test_split(test_size=0.2, seed=42)\n",
        "train_dataset = dataset['train']\n",
        "val_dataset = dataset['test']"
      ]
    },
    {
      "cell_type": "code",
      "execution_count": 5,
      "metadata": {
        "id": "fULFTxS_OIBL",
        "outputId": "1953a092-85cc-4d8c-8582-7e9e680cec15",
        "colab": {
          "base_uri": "https://localhost:8080/"
        }
      },
      "outputs": [
        {
          "output_type": "stream",
          "name": "stdout",
          "text": [
            "Number of training examples: 40\n",
            "Number of validation examples: 10\n"
          ]
        }
      ],
      "source": [
        "# Display the number of examples in the training and validation sets\n",
        "print(f\"Number of training examples: {len(train_dataset)}\")\n",
        "print(f\"Number of validation examples: {len(val_dataset)}\")"
      ]
    },
    {
      "cell_type": "code",
      "execution_count": 6,
      "metadata": {
        "id": "CNWUyaAtOUea",
        "outputId": "02cd6aaf-21b2-489f-af95-22f6a6abb3d7",
        "colab": {
          "base_uri": "https://localhost:8080/"
        }
      },
      "outputs": [
        {
          "output_type": "stream",
          "name": "stdout",
          "text": [
            "{'Context': ['Parents can support by creating structured routines, using visual aids, and providing consistent, positive reinforcement.', 'ABA therapy uses behavior principles to improve social, communication, and learning skills.', 'Siblings can be supported through education about autism, encouragement of open communication, and ensuring they have their own outlets for support and attention.', 'Genetics play a significant role in autism, as evidenced by higher concordance rates among identical twins and the identification of specific genetic mutations associated with autism spectrum disorder. However, not all cases of autism can be explained by genetic factors alone, suggesting a complex interplay of genetic and environmental influences.', \"Autism severity levels (mild, moderate, severe) are based on the amount of support an individual requires across different domains (social communication, repetitive behaviors, sensory issues). These levels guide intervention and support strategies tailored to the individual's specific needs and functional abilities.\"], 'Questions': ['How can parents support a child with autism at home?', 'What is Applied Behavior Analysis (ABA) therapy?', 'How can siblings of children with autism be supported?', 'What role does genetics play in autism?', 'What are the different levels of autism severity?'], 'Answers': [\"Parents can support their child with autism by establishing routines, using visual supports, promoting communication, providing sensory-friendly environments, and participating in therapies and educational activities tailored to their child's needs.\", 'ABA therapy is a structured, evidence-based intervention that focuses on improving socially significant behaviors, reducing challenging behaviors, and teaching new skills through positive reinforcement and systematic teaching methods.', 'Siblings can be supported through education about autism, promoting understanding and empathy, providing opportunities for bonding and shared activities, and offering emotional support and resources for coping with the unique challenges and rewards of having a sibling with autism.', 'Genetics plays a significant role in autism, with evidence suggesting that certain genetic mutations and variations contribute to autism susceptibility. However, autism is complex, and genetic factors interact with environmental influences.', 'Autism severity is often categorized into three levels based on the level of support needed: Level 1 (requiring support), Level 2 (requiring substantial support), and Level 3 (requiring very substantial support). These levels reflect the degree of impairment in social communication, behavior, and adaptive functioning.'], 'Patterns': ['How do parents help autistic children at home?', 'What is ABA therapy?', 'How do you support siblings of autistic kids?', 'What is the genetic link to autism?', 'What are autism severity levels?'], 'Articles': ['https://www.autismspeaks.org/family-support-tool-kit', 'https://www.autismspeaks.org/applied-behavior-analysis-aba-0', 'https://www.autismspeaks.org/family-dynamics-and-siblings-autism', 'https://www.autismspeaks.org/what-autism/learn-more-autism/what-causes-autism', 'https://www.autism.org.uk/about/what-is/asperger']}\n",
            "{'Context': ['Common symptoms of autism include difficulties in social interaction (such as understanding social cues), challenges in communication (verbal and non-verbal), repetitive behaviors (like hand-flapping), sensory sensitivities (to light, sound, touch), and sometimes, intellectual challenges or specific interests.', 'Myths about autism include misconceptions about its causes (like vaccines), stereotypes about behaviors (such as all individuals with autism being non-verbal or having savant abilities), and misunderstandings about treatment effectiveness. Educating the public about autism helps dispel myths and promotes acceptance and support for individuals with autism.', 'Common co-occurring conditions with autism include intellectual disabilities, epilepsy, ADHD (Attention Deficit Hyperactivity Disorder), anxiety disorders, gastrointestinal issues, and sensory processing disorders. Addressing these conditions often requires a multidisciplinary approach to treatment and support.', 'Technology can assist by providing communication aids (like speech-generating devices), social skills apps, sensory tools (noise-canceling headphones), and virtual support networks.', 'Strategies include using visual schedules, providing warnings before transitions, and offering transition supports like social stories or countdown timers.'], 'Questions': ['What are some common symptoms of autism?', 'What are some myths about autism that need to be debunked?', 'What are some common co-occurring conditions with autism?', 'How can technology assist individuals with autism?', 'What are some strategies for managing transitions for individuals with autism?'], 'Answers': ['Common symptoms include challenges in social communication and interaction, restricted interests, repetitive behaviors, sensory sensitivities, and sometimes intellectual disabilities or delays in language development.', 'Myths about autism include misconceptions about its causes (e.g., vaccines), stereotypes about behaviors and abilities, and outdated beliefs about autism being solely a childhood disorder. Understanding and dispelling myths promote accurate awareness and acceptance of autism.', 'Common co-occurring conditions with autism include ADHD (Attention-Deficit/Hyperactivity Disorder), anxiety disorders, epilepsy, gastrointestinal issues, sensory processing disorders, and sleep disturbances.', 'Technology can assist individuals with autism by providing communication aids (e.g., AAC devices), social skills apps, sensory regulation tools, virtual supports for remote learning, and assistive technologies that support independence and participation in daily activities.', 'Strategies include using visual schedules, providing advance notice of changes, offering transition objects or routines, using positive reinforcement, and creating a predictable environment to reduce anxiety and support smooth transitions for individuals with autism.'], 'Patterns': ['What are typical autism symptoms?', 'What myths about autism are false?', 'What other conditions come with autism?', 'How does tech help autism?', 'How do you manage transitions for autism?'], 'Articles': ['https://www.mayoclinic.org/diseases-conditions/autism-spectrum-disorder/symptoms-causes/syc-20352928', 'https://www.autism-society.org/myths-facts/', 'https://www.cdc.gov/ncbddd/autism/facts.html', 'https://www.autismspeaks.org/assistive-technology-autism', 'https://www.autism.org.uk/advice-and-guidance']}\n"
          ]
        }
      ],
      "source": [
        "print(train_dataset[:5])\n",
        "print(val_dataset[:5])"
      ]
    },
    {
      "cell_type": "code",
      "execution_count": 7,
      "metadata": {
        "id": "DlqyKO-rOkU0",
        "outputId": "893b5cac-d620-45d4-9bfe-33d8d0814cb8",
        "colab": {
          "base_uri": "https://localhost:8080/"
        }
      },
      "outputs": [
        {
          "output_type": "execute_result",
          "data": {
            "text/plain": [
              "{'Context': 'Parents can support by creating structured routines, using visual aids, and providing consistent, positive reinforcement.',\n",
              " 'Questions': 'How can parents support a child with autism at home?',\n",
              " 'Answers': \"Parents can support their child with autism by establishing routines, using visual supports, promoting communication, providing sensory-friendly environments, and participating in therapies and educational activities tailored to their child's needs.\",\n",
              " 'Patterns': 'How do parents help autistic children at home?',\n",
              " 'Articles': 'https://www.autismspeaks.org/family-support-tool-kit'}"
            ]
          },
          "metadata": {},
          "execution_count": 7
        }
      ],
      "source": [
        "dataset[\"train\"][0]"
      ]
    },
    {
      "cell_type": "code",
      "execution_count": 8,
      "metadata": {
        "id": "0Na-hLGTSQm8",
        "outputId": "8c1a9ded-41e5-445f-fc63-4024b841483f",
        "colab": {
          "base_uri": "https://localhost:8080/"
        }
      },
      "outputs": [
        {
          "output_type": "stream",
          "name": "stdout",
          "text": [
            "Training dataset saved to train_dataset.json\n",
            "Validation dataset saved to val_dataset.json\n"
          ]
        }
      ],
      "source": [
        "import json\n",
        "\n",
        "# Convert Dataset objects to lists of dictionaries\n",
        "dataset_dict = [example for example in train_dataset]\n",
        "train_data_dict = [example for example in train_dataset]\n",
        "val_data_dict = [example for example in val_dataset]\n",
        "\n",
        "# Define file paths\n",
        "train_file = 'train_dataset.json'\n",
        "val_file = 'val_dataset.json'\n",
        "dataset_file = 'dataset.json'\n",
        "\n",
        "# Save training dataset to JSON\n",
        "with open(train_file, 'w') as f:\n",
        "    json.dump(train_data_dict, f, indent=4)\n",
        "\n",
        "# Save validation dataset to JSON\n",
        "with open(val_file, 'w') as f:\n",
        "    json.dump(val_data_dict, f, indent=4)\n",
        "\n",
        "# Save dataset to JSON\n",
        "with open(dataset_file, 'w') as f:\n",
        "    json.dump(dataset_dict, f, indent=4)\n",
        "\n",
        "print(f\"Training dataset saved to {train_file}\")\n",
        "print(f\"Validation dataset saved to {val_file}\")"
      ]
    },
    {
      "cell_type": "code",
      "source": [
        "print(val_dataset)"
      ],
      "metadata": {
        "id": "ivi_fpsjX6Sd",
        "outputId": "f443e20a-48cc-4f81-f62f-c180d6039e24",
        "colab": {
          "base_uri": "https://localhost:8080/"
        }
      },
      "execution_count": 9,
      "outputs": [
        {
          "output_type": "stream",
          "name": "stdout",
          "text": [
            "Dataset({\n",
            "    features: ['Context', 'Questions', 'Answers', 'Patterns', 'Articles'],\n",
            "    num_rows: 10\n",
            "})\n"
          ]
        }
      ]
    },
    {
      "cell_type": "code",
      "execution_count": 10,
      "metadata": {
        "id": "hSoqJNqzD8zw"
      },
      "outputs": [],
      "source": [
        "def preprocess_text(text):\n",
        "    text = text.lower()  # Convert text to lowercase\n",
        "    text = re.sub(r'[^a-z\\s]', '', text)  # Remove special characters and digits\n",
        "    text = ' '.join(text.split())  # Remove extra whitespaces\n",
        "    return text"
      ]
    },
    {
      "cell_type": "code",
      "execution_count": 18,
      "metadata": {
        "id": "Q42DjuSvTPU_",
        "outputId": "c50d3422-9025-4516-bcc8-14c4664d715b",
        "colab": {
          "base_uri": "https://localhost:8080/"
        }
      },
      "outputs": [
        {
          "output_type": "stream",
          "name": "stdout",
          "text": [
            "Number of input_ids: 40\n",
            "Number of attention_masks: 40\n",
            "Number of labels: 40\n",
            "Number of skipped samples: 0\n"
          ]
        }
      ],
      "source": [
        "from torch.utils.data import Dataset\n",
        "\n",
        "# Load the tokenizer\n",
        "# Define the tokenizer\n",
        "tokenizer = AutoTokenizer.from_pretrained(\"bert-base-uncased\")\n",
        "\n",
        "def get_unique_answers(dataset):\n",
        "    \"\"\"Extracts unique answers from the dataset.\"\"\"\n",
        "    unique_answers = set()\n",
        "    for sample in dataset:\n",
        "        answer = sample.get('Answers')\n",
        "        if answer is not None:\n",
        "            unique_answers.add(answer)\n",
        "    return unique_answers\n",
        "\n",
        "# Get unique answers from your dataset\n",
        "unique_answers = get_unique_answers(train_dataset)  # Assuming train_dataset has all possible answers\n",
        "\n",
        "# Create label mapping dynamically\n",
        "label_to_id = {answer: idx for idx, answer in enumerate(unique_answers)}\n",
        "\n",
        "def tokenize_dataset(dataset, tokenizer=tokenizer, label_to_id=label_to_id):\n",
        "    input_ids = []\n",
        "    attention_masks = []\n",
        "    labels_list = []\n",
        "    skipped_samples = 0  # Initialize a counter for skipped samples\n",
        "\n",
        "    for sample in dataset:\n",
        "        answer = sample.get('Answers')\n",
        "        if answer is None:\n",
        "            # Skip samples with missing 'Answers'\n",
        "            print(f\"Warning: 'Answers' key not found or has None value in sample: {sample}\")\n",
        "            skipped_samples += 1  # Increment the counter\n",
        "            continue\n",
        "\n",
        "        label = label_to_id.get(answer)\n",
        "        if label is None:\n",
        "            print(f\"Warning: Label not found for answer '{answer}' in sample: {sample}\")\n",
        "            skipped_samples += 1  # Increment the counter\n",
        "            continue\n",
        "\n",
        "        tokenized_example = tokenizer(\n",
        "            sample.get(\"Questions\", \"\"),\n",
        "            sample.get(\"Context\", \"\"),  # Assuming you changed 'Patterns' to 'Context'\n",
        "            padding='max_length',\n",
        "            truncation=True,\n",
        "            max_length=512,\n",
        "            return_tensors=\"pt\"\n",
        "        )\n",
        "\n",
        "        input_ids.append(tokenized_example['input_ids'].squeeze())\n",
        "        attention_masks.append(tokenized_example['attention_mask'].squeeze())\n",
        "        labels_list.append(label)\n",
        "\n",
        "    if not input_ids:\n",
        "        raise RuntimeError(\"No valid samples found. Check your dataset and label mapping.\")\n",
        "\n",
        "    input_ids = torch.stack(input_ids)\n",
        "    attention_masks = torch.stack(attention_masks)\n",
        "    labels_tensor = torch.tensor(labels_list, dtype=torch.long)\n",
        "\n",
        "    return {'input_ids': input_ids, 'attention_mask': attention_masks, 'labels': labels_tensor, 'skipped_samples': skipped_samples}\n",
        "\n",
        "# Tokenize the datasets\n",
        "tokenized_train_datasets = tokenize_dataset(train_dataset)\n",
        "\n",
        "\n",
        "print(f\"Number of input_ids: {tokenized_train_datasets['input_ids'].size(0)}\")\n",
        "print(f\"Number of attention_masks: {tokenized_train_datasets['attention_mask'].size(0)}\")\n",
        "print(f\"Number of labels: {tokenized_train_datasets['labels'].size(0)}\")\n",
        "print(f\"Number of skipped samples: {tokenized_train_datasets['skipped_samples']}\")\n",
        "\n"
      ]
    },
    {
      "cell_type": "code",
      "source": [
        "# Save tokenize datasets\n",
        "save_path = 'tokenized_train_datasets'\n",
        "torch.save(tokenized_train_datasets, save_path)\n"
      ],
      "metadata": {
        "id": "dXUqUIL3jwZU"
      },
      "execution_count": 19,
      "outputs": []
    },
    {
      "cell_type": "code",
      "execution_count": 21,
      "metadata": {
        "id": "qx4YNKTqzQTT",
        "outputId": "06f801ae-68bc-43d2-ff5f-a36efc7194bf",
        "colab": {
          "base_uri": "https://localhost:8080/"
        }
      },
      "outputs": [
        {
          "output_type": "stream",
          "name": "stdout",
          "text": [
            "Length of final_train_dataset: 40\n"
          ]
        }
      ],
      "source": [
        "# Define MyDataset class\n",
        "class MyDataset(Dataset):\n",
        "    def __init__(self, tokenized_dataset):\n",
        "        self.input_ids = tokenized_dataset['input_ids']\n",
        "        self.attention_mask = tokenized_dataset['attention_mask']\n",
        "        self.labels = tokenized_dataset['labels']\n",
        "\n",
        "    def __len__(self):\n",
        "        return len(self.labels)\n",
        "\n",
        "    def __getitem__(self, idx):\n",
        "        return {\n",
        "            'input_ids': self.input_ids[idx],\n",
        "            'attention_mask': self.attention_mask[idx],\n",
        "            'labels': self.labels[idx]\n",
        "        }\n",
        "\n",
        "# Prepare the datasets\n",
        "# Load your own tokenized dataset (example using pickle)\n",
        "with open('tokenized_train_datasets', 'rb') as f:  # Use the correct filename\n",
        "    tokenized_train_dataset = torch.load(f)  # Load with torch.load\n",
        "\n",
        "final_train_dataset = MyDataset(tokenized_train_dataset)\n",
        "\n",
        "# After creating the datasets, print their lengths\n",
        "print(\"Length of final_train_dataset:\", len(final_train_dataset))\n"
      ]
    },
    {
      "cell_type": "markdown",
      "metadata": {
        "id": "iG57PtY8yd0j"
      },
      "source": [
        "EVALUATING THE MODEL"
      ]
    },
    {
      "cell_type": "code",
      "source": [
        "from transformers import BertTokenizer, BertForSequenceClassification, Trainer, TrainingArguments\n",
        "import torch\n",
        "import pickle\n",
        "\n",
        "with open('final_train_dataset', 'wb') as f:\n",
        "    pickle.dump(final_train_dataset, f)\n",
        "\n",
        "with open('final_train_dataset', 'rb') as f:\n",
        "    final_train_dataset = pickle.load(f)\n",
        "\n",
        "# Define model and tokenizer\n",
        "model_name = 'bert-base-uncased'\n",
        "tokenizer = BertTokenizer.from_pretrained(model_name)\n",
        "\n",
        "# Use tokenized_train_dataset instead of tokenized_datasets\n",
        "model = BertForSequenceClassification.from_pretrained(model_name, num_labels=len(tokenized_train_dataset['labels']))\n",
        "\n",
        "# Define Trainer\n",
        "training_args = TrainingArguments(\n",
        "    output_dir='./output', # Add the output directory\n",
        "    per_device_train_batch_size=4,\n",
        "    num_train_epochs=3,\n",
        "    logging_dir='./logs',\n",
        "    logging_steps=100,\n",
        "    evaluation_strategy=\"no\",\n",
        "    disable_tqdm=True\n",
        ")\n",
        "\n",
        "trainer = Trainer(\n",
        "    model=model,\n",
        "    args=training_args,\n",
        "    train_dataset=final_train_dataset,\n",
        "    tokenizer=tokenizer\n",
        ")\n",
        "\n",
        "# Train the model\n",
        "trainer.train()\n",
        "\n",
        "# Save the model\n",
        "model.save_pretrained('./saved_model')\n",
        "tokenizer.save_pretrained('./saved_model')"
      ],
      "metadata": {
        "id": "jveTOxFm_Krx",
        "outputId": "a8a6473d-0ab4-4664-c903-6a0dd90ca05c",
        "colab": {
          "base_uri": "https://localhost:8080/"
        }
      },
      "execution_count": 30,
      "outputs": [
        {
          "output_type": "stream",
          "name": "stderr",
          "text": [
            "Some weights of BertForSequenceClassification were not initialized from the model checkpoint at bert-base-uncased and are newly initialized: ['classifier.bias', 'classifier.weight']\n",
            "You should probably TRAIN this model on a down-stream task to be able to use it for predictions and inference.\n"
          ]
        },
        {
          "output_type": "stream",
          "name": "stdout",
          "text": [
            "{'train_runtime': 839.3204, 'train_samples_per_second': 0.143, 'train_steps_per_second': 0.036, 'train_loss': 3.7453600565592446, 'epoch': 3.0}\n"
          ]
        },
        {
          "output_type": "execute_result",
          "data": {
            "text/plain": [
              "('./saved_model/tokenizer_config.json',\n",
              " './saved_model/special_tokens_map.json',\n",
              " './saved_model/vocab.txt',\n",
              " './saved_model/added_tokens.json')"
            ]
          },
          "metadata": {},
          "execution_count": 30
        }
      ]
    },
    {
      "cell_type": "markdown",
      "metadata": {
        "id": "_stcHgv1IJTy"
      },
      "source": []
    },
    {
      "cell_type": "code",
      "source": [
        "from transformers import BertTokenizer, BertForSequenceClassification\n",
        "import torch\n",
        "import numpy as np\n",
        "\n",
        "# Load the tokenizer and model\n",
        "model_name = 'bert-base-uncased'\n",
        "tokenizer = BertTokenizer.from_pretrained(model_name)\n",
        "model = BertForSequenceClassification.from_pretrained('./saved_model')  # Assuming './saved_model' is where your trained model is saved\n",
        "\n",
        "# Function to get answer from model\n",
        "def get_answer(input_text):\n",
        "    # Tokenize input text\n",
        "    inputs = tokenizer(input_text, padding=True, truncation=True, max_length=512, return_tensors='pt')\n",
        "\n",
        "    # Perform inference\n",
        "    with torch.no_grad():\n",
        "        outputs = model(**inputs)\n",
        "\n",
        "    # Convert logits to probabilities using softmax\n",
        "    probs = torch.softmax(outputs.logits, dim=-1)\n",
        "\n",
        "    # Get predicted label (answer)\n",
        "    predicted_label_id = torch.argmax(probs, dim=-1).item()\n",
        "\n",
        "    # Reverse label_to_id mapping to get answer string\n",
        "    id_to_label = {v: k for k, v in label_to_id.items()}\n",
        "    predicted_answer = id_to_label[predicted_label_id]\n",
        "\n",
        "    return predicted_answer\n",
        "\n",
        "# Example usage:\n",
        "input_text = \"What is autism spectrum disorder?\"\n",
        "predicted_answer = get_answer(input_text)\n",
        "print(f\"Predicted answer: {predicted_answer}\")\n"
      ],
      "metadata": {
        "id": "_8Tf3tCouPc5",
        "outputId": "4088bc98-d06e-4f4a-aba8-2a3aedd9fc8c",
        "colab": {
          "base_uri": "https://localhost:8080/"
        }
      },
      "execution_count": 31,
      "outputs": [
        {
          "output_type": "stream",
          "name": "stdout",
          "text": [
            "Predicted answer: Autism spectrum disorder (ASD) is a developmental disorder that affects communication, behavior, and social interaction. It includes a wide range of conditions characterized by challenges with social skills, repetitive behaviors, speech, and nonverbal communication.\n"
          ]
        }
      ]
    },
    {
      "cell_type": "code",
      "source": [
        "# Example usage:\n",
        "input_text = \"What is autism spectrum disorder?\"\n",
        "predicted_answer = get_answer(input_text)\n",
        "print(f\"Predicted answer: {predicted_answer}\")"
      ],
      "metadata": {
        "id": "FC56nRaAutHU"
      },
      "execution_count": null,
      "outputs": []
    }
  ],
  "metadata": {
    "colab": {
      "provenance": [],
      "authorship_tag": "ABX9TyMLYYxqMvSnc9+bM4cbL18c",
      "include_colab_link": true
    },
    "kernelspec": {
      "display_name": "Python 3",
      "name": "python3"
    },
    "language_info": {
      "name": "python"
    }
  },
  "nbformat": 4,
  "nbformat_minor": 0
}