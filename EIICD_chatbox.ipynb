{
  "nbformat": 4,
  "nbformat_minor": 0,
  "metadata": {
    "colab": {
      "provenance": [],
      "authorship_tag": "ABX9TyOSfZH3nZYfnRkSbZ4Tb5lt",
      "include_colab_link": true
    },
    "kernelspec": {
      "name": "python3",
      "display_name": "Python 3"
    },
    "language_info": {
      "name": "python"
    }
  },
  "cells": [
    {
      "cell_type": "markdown",
      "metadata": {
        "id": "view-in-github",
        "colab_type": "text"
      },
      "source": [
        "<a href=\"https://colab.research.google.com/github/Praise-Atadja/EIICD_chatbox/blob/main/EIICD_chatbox.ipynb\" target=\"_parent\"><img src=\"https://colab.research.google.com/assets/colab-badge.svg\" alt=\"Open In Colab\"/></a>"
      ]
    },
    {
      "cell_type": "code",
      "execution_count": null,
      "metadata": {
        "id": "Gc2u7CfVCEcR"
      },
      "outputs": [],
      "source": [
        "import tensorflow as tf\n",
        "import tensorflow_hub as hub\n",
        "from transformers import BertTokenizer\n",
        "import os\n",
        "import numpy as np"
      ]
    },
    {
      "cell_type": "code",
      "source": [
        "\n",
        "def question_answer(question, reference):\n",
        "    tok = BertTokenizer.from_pretrained(\n",
        "        \"bert-large-uncased-whole-word-masking-finetuned-squad\")\n",
        "    model = hub.load(\"https://tfhub.dev/see--/bert-uncased-tf2-qa/1\")\n",
        "\n",
        "    quest_toks = tok.tokenize(question)\n",
        "    text_toks = tok.tokenize(reference)\n",
        "    tokens = ['[CLS]'] + quest_toks + [\n",
        "        '[SEP]'] + text_toks + ['[SEP]']\n",
        "\n",
        "    input_id = tok.convert_tokens_to_ids(tokens)\n",
        "    mask = [1] * len(input_id)\n",
        "    input_type = [0] * (1 + len(quest_toks) + 1) + [1] * (len(text_toks) + 1)\n",
        "\n",
        "    input_id, mask, input_type = map(lambda x: tf.expand_dims(\n",
        "        tf.convert_to_tensor(x, tf.int32), 0), (input_id, mask, input_type))\n",
        "\n",
        "    output = model([input_id, mask, input_type])\n",
        "    start = tf.argmax(output[0][0][1:]) + 1\n",
        "    end = tf.argmax(output[1][0][1:]) + 1\n",
        "    answer_tok = tokens[start: end + 1]\n",
        "    answer = tok.convert_tokens_to_string(answer_tok)\n",
        "\n",
        "    return answer"
      ],
      "metadata": {
        "id": "3P1QUjpJfoTD"
      },
      "execution_count": null,
      "outputs": []
    },
    {
      "cell_type": "code",
      "source": [
        "\"\"\"Create the loop\"\"\"\n",
        "\n",
        "\n",
        "while True:\n",
        "    question = input(\"Q: \")\n",
        "    texts = [\"exit\", \"quit\", \"goodbye\", \"bye\"]\n",
        "\n",
        "    if question.lower().strip() in texts:\n",
        "        print(\"A: Goodybe\")\n",
        "        exit(0)\n",
        "    else:\n",
        "        print(\"A: \")"
      ],
      "metadata": {
        "id": "BHR66uaafvp2"
      },
      "execution_count": null,
      "outputs": []
    },
    {
      "cell_type": "code",
      "source": [
        "\"\"\"Answer some questions\"\"\"\n",
        "\n",
        "def question_answer(question, reference):\n",
        "    \"\"\"Questions answer method\"\"\"\n",
        "    tok = BertTokenizer.from_pretrained(\n",
        "        \"bert-large-uncased-whole-word-masking-finetuned-squad\")\n",
        "    model = hub.load(\"https://tfhub.dev/see--/bert-uncased-tf2-qa/1\")\n",
        "\n",
        "    quest_toks = tok.tokenize(question)\n",
        "    text_toks = tok.tokenize(reference)\n",
        "    tokens = ['[CLS]'] + quest_toks + [\n",
        "        '[SEP]'] + text_toks + ['[SEP]']\n",
        "\n",
        "    input_id = tok.convert_tokens_to_ids(tokens)\n",
        "    mask = [1] * len(input_id)\n",
        "    input_type = [0] * (1 + len(quest_toks) + 1) + [1] * (len(text_toks) + 1)\n",
        "\n",
        "    input_id, mask, input_type = map(lambda x: tf.expand_dims(\n",
        "        tf.convert_to_tensor(x, tf.int32), 0), (input_id, mask, input_type))\n",
        "\n",
        "    output = model([input_id, mask, input_type])\n",
        "    start = tf.argmax(output[0][0][1:]) + 1\n",
        "    end = tf.argmax(output[1][0][1:]) + 1\n",
        "    answer_tok = tokens[start: end + 1]\n",
        "    answer = tok.convert_tokens_to_string(answer_tok)\n",
        "\n",
        "    return answer\n",
        "\n",
        "\n",
        "def answer_loop(reference):\n",
        "    \"\"\"Answer question from reference\"\"\"\n",
        "    while True:\n",
        "        question = input(\"Q: \")\n",
        "        question = question.lower().strip()\n",
        "        leaving = [\"exit\", \"quit\", \"goodbye\", \"bye\"]\n",
        "\n",
        "        if question in leaving:\n",
        "            print(\"A: Goodbye\")\n",
        "            break\n",
        "\n",
        "        answer = question_answer(question, reference)\n",
        "        if answer is None:\n",
        "            print(\"A: Sorry, I do not understand your question.\")\n",
        "        else:\n",
        "            print(\"A: \", answer)\n"
      ],
      "metadata": {
        "id": "aW1SFzUAf2vN"
      },
      "execution_count": null,
      "outputs": []
    },
    {
      "cell_type": "code",
      "source": [
        "\"\"\"Semantic Search task\"\"\"\n",
        "\n",
        "def semantic_search(corpus_path, sentence):\n",
        "    \"\"\"Perform semantic search on corpus of documents\"\"\"\n",
        "    doc = [sentence]\n",
        "    model = hub.load('https://tfhub.dev/google/universal-sentence' +\n",
        "                     '-encoder-large/5')\n",
        "\n",
        "    for filename in os.listdir(corpus_path):\n",
        "        if not filename.endswith('.md'):\n",
        "            continue\n",
        "        with open(corpus_path + '/' + filename, 'r', encoding='utf-8') as f:\n",
        "            doc.append(f.read())\n",
        "\n",
        "    embs = model(doc)\n",
        "    comp = np.inner(embs, embs)\n",
        "    close = np.argmax(comp[0, 1:])\n",
        "    alike = doc[close + 1]\n",
        "\n",
        "    return alike"
      ],
      "metadata": {
        "id": "kI5asp-CgCEr"
      },
      "execution_count": null,
      "outputs": []
    }
  ]
}