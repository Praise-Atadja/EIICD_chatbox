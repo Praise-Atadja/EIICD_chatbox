{
  "nbformat": 4,
  "nbformat_minor": 0,
  "metadata": {
    "colab": {
      "provenance": [],
      "authorship_tag": "ABX9TyNKGQyQB+IsH6R+d4U/EQS1",
      "include_colab_link": true
    },
    "kernelspec": {
      "name": "python3",
      "display_name": "Python 3"
    },
    "language_info": {
      "name": "python"
    }
  },
  "cells": [
    {
      "cell_type": "markdown",
      "metadata": {
        "id": "view-in-github",
        "colab_type": "text"
      },
      "source": [
        "<a href=\"https://colab.research.google.com/github/Praise-Atadja/EIICD_chatbox/blob/main/EIICD_chatbox.ipynb\" target=\"_parent\"><img src=\"https://colab.research.google.com/assets/colab-badge.svg\" alt=\"Open In Colab\"/></a>"
      ]
    },
    {
      "cell_type": "markdown",
      "source": [
        "\n",
        "\n",
        "# **PROJECT NAME:**\n",
        "\n",
        "##EARLY INTERVENTION INTELLIGENCE FOR COGNITIVE DEVELOPMENT (EIICD) CHATBOX\n",
        "\n",
        "\n",
        "---"
      ],
      "metadata": {
        "id": "5bGXGwrGhp7j"
      }
    },
    {
      "cell_type": "code",
      "execution_count": 53,
      "metadata": {
        "id": "Gc2u7CfVCEcR",
        "outputId": "13332f4d-d9e4-4bb7-e893-91d54e6c36ce",
        "colab": {
          "base_uri": "https://localhost:8080/"
        }
      },
      "outputs": [
        {
          "output_type": "stream",
          "name": "stdout",
          "text": [
            "Drive already mounted at /content/drive; to attempt to forcibly remount, call drive.mount(\"/content/drive\", force_remount=True).\n"
          ]
        }
      ],
      "source": [
        "# Import necessary libraries\n",
        "import os\n",
        "import numpy as np\n",
        "import tensorflow as tf\n",
        "import tensorflow_hub as hub\n",
        "from transformers import BertTokenizer, TFBertForQuestionAnswering\n",
        "from sklearn.model_selection import train_test_split\n",
        "import pandas as pd\n",
        "import re\n",
        "from google.colab import drive\n",
        "drive.mount('/content/drive')\n"
      ]
    },
    {
      "cell_type": "code",
      "source": [
        "# Load the dataset\n",
        "data = pd.read_csv('/content/drive/MyDrive/AutsimChatbox_datatset.csv')"
      ],
      "metadata": {
        "id": "3P1QUjpJfoTD"
      },
      "execution_count": 54,
      "outputs": []
    },
    {
      "cell_type": "code",
      "source": [
        "# Load pre-trained BERT model\n",
        "model = TFBertForQuestionAnswering.from_pretrained('bert-large-uncased-whole-word-masking-finetuned-squad')\n",
        "tokenizer = BertTokenizer.from_pretrained('bert-large-uncased-whole-word-masking-finetuned-squad')\n",
        "\n",
        "# Function to preprocess text\n",
        "def preprocess_text(text):\n",
        "    text = text.lower()  # Convert text to lowercase\n",
        "    text = ' '.join(text.split())  # Remove extra whitespaces\n",
        "    return text"
      ],
      "metadata": {
        "id": "BHR66uaafvp2",
        "outputId": "43346234-d227-483a-aa57-76f07fcf52ea",
        "colab": {
          "base_uri": "https://localhost:8080/"
        }
      },
      "execution_count": 55,
      "outputs": [
        {
          "output_type": "stream",
          "name": "stderr",
          "text": [
            "All PyTorch model weights were used when initializing TFBertForQuestionAnswering.\n",
            "\n",
            "All the weights of TFBertForQuestionAnswering were initialized from the PyTorch model.\n",
            "If your task is similar to the task the model of the checkpoint was trained on, you can already use TFBertForQuestionAnswering for predictions without further training.\n"
          ]
        }
      ]
    },
    {
      "cell_type": "code",
      "source": [
        "# Function to prepare input tensors for BERT\n",
        "def prepare_input_tensors(question, reference):\n",
        "    quest_toks = tokenizer.tokenize(question)\n",
        "    text_toks = tokenizer.tokenize(reference)\n",
        "    tokens = ['[CLS]'] + quest_toks + ['[SEP]'] + text_toks + ['[SEP]']\n",
        "\n",
        "    input_id = tokenizer.convert_tokens_to_ids(tokens)\n",
        "    mask = [1] * len(input_id)\n",
        "    input_type = [0] * (1 + len(quest_toks) + 1) + [1] * (len(text_toks) + 1)\n",
        "\n",
        "    input_id, mask, input_type = map(lambda x: tf.convert_to_tensor(x, dtype=tf.int32), (input_id, mask, input_type))\n",
        "\n",
        "    return input_id, mask, input_type"
      ],
      "metadata": {
        "id": "aW1SFzUAf2vN"
      },
      "execution_count": 56,
      "outputs": []
    },
    {
      "cell_type": "code",
      "source": [
        "def create_dataset_from_csv(csv_path):\n",
        "    df = pd.read_csv(csv_path)\n",
        "    texts = df['Questions'].tolist()\n",
        "    print(\"Unique labels:\", df['Answers'].unique())\n",
        "    num_labels = len(df['Answers'].unique())\n",
        "    labels = pd.factorize(df['Answers'])[0].tolist()\n",
        "    tokenizer = BertTokenizer.from_pretrained('bert-base-uncased')\n",
        "    encodings = tokenizer(texts, truncation=True, padding=True, return_tensors='tf')\n",
        "\n",
        "    # Splitting the data\n",
        "    train_indices, val_indices = train_test_split(\n",
        "        range(len(labels)), test_size=0.2, random_state=42\n",
        "    )\n",
        "\n",
        "    # Use the indices to extract the data\n",
        "    train_encodings = {\n",
        "        'input_ids': tf.gather(encodings['input_ids'], train_indices),\n",
        "        'attention_mask': tf.gather(encodings['attention_mask'], train_indices),\n",
        "        'token_type_ids': tf.gather(encodings['token_type_ids'], train_indices)\n",
        "    }\n",
        "    val_encodings = {\n",
        "        'input_ids': tf.gather(encodings['input_ids'], val_indices),\n",
        "        'attention_mask': tf.gather(encodings['attention_mask'], val_indices),\n",
        "        'token_type_ids': tf.gather(encodings['token_type_ids'], val_indices)\n",
        "    }\n",
        "    train_labels = tf.gather(labels, train_indices)\n",
        "    val_labels = tf.gather(labels, val_indices)\n",
        "\n",
        "    # Create TensorFlow datasets\n",
        "    train_dataset = tf.data.Dataset.from_tensor_slices((\n",
        "        train_encodings,\n",
        "        train_labels\n",
        "    )).batch(8)\n",
        "\n",
        "    val_dataset = tf.data.Dataset.from_tensor_slices((\n",
        "        val_encodings,\n",
        "        val_labels\n",
        "    )).batch(8)\n",
        "\n",
        "    return train_dataset, val_dataset, num_labels\n",
        "\n",
        "\n",
        "def save_dataset(dataset, path):\n",
        "    tf.data.experimental.save(dataset, path)\n",
        "    print(f\"Dataset saved to {path}\")\n",
        "\n",
        "def load_dataset(path):\n",
        "    dataset = tf.data.experimental.load(path)\n",
        "    print(f\"Dataset loaded from {path}\")\n",
        "    return dataset\n",
        "\n",
        "# Load the dataset and get the number of labels\n",
        "train_dataset, val_dataset, num_labels = create_dataset_from_csv('/content/drive/MyDrive/AutsimChatbox_datatset.csv')\n",
        "\n",
        "# Save the datasets\n",
        "save_dataset(train_dataset, '/content/drive/MyDrive/train_dataset')\n",
        "save_dataset(val_dataset, '/content/drive/MyDrive/val_dataset')\n",
        "\n",
        "# Load the datasets\n",
        "train_dataset = load_dataset('/content/drive/MyDrive/train_dataset')\n",
        "val_dataset = load_dataset('/content/drive/MyDrive/val_dataset')\n",
        "\n",
        "print(f\"Training dataset size: {len(train_dataset)}\")\n",
        "print(f\"Validation dataset size: {len(val_dataset)}\")\n",
        "\n",
        "# Define the model with the correct number of labels\n",
        "model = TFBertForSequenceClassification.from_pretrained('bert-base-uncased', num_labels=num_labels)\n",
        "\n",
        "# Define the loss function\n",
        "loss = tf.keras.losses.SparseCategoricalCrossentropy(from_logits=True)\n",
        "\n",
        "# Compile the model using string identifier for optimizer\n",
        "optimizer = Adam(learning_rate=2e-5)\n",
        "model.compile(optimizer='adam', loss=loss)\n",
        "\n",
        "# Print the model summary\n",
        "model.summary()\n",
        "\n",
        "# Train the model with detailed logging\n",
        "history = model.fit(train_dataset, validation_data=val_dataset, epochs=3)\n",
        "\n",
        "# Save the fine-tuned model\n",
        "model.save('fine_tuned_bert_model')\n",
        "\n",
        "# Print the training history\n",
        "print(history.history)"
      ],
      "metadata": {
        "id": "GR7fzhlsuExV",
        "colab": {
          "base_uri": "https://localhost:8080/"
        },
        "outputId": "d62f6943-4056-402a-bd73-b41f34867621"
      },
      "execution_count": 57,
      "outputs": [
        {
          "output_type": "stream",
          "name": "stdout",
          "text": [
            "Unique labels: ['Autism spectrum disorder (ASD) is a developmental disorder that affects communication, behavior, and social interaction. It includes a wide range of conditions characterized by challenges with social skills, repetitive behaviors, speech, and nonverbal communication.'\n",
            " 'Early signs may include reduced eye contact, lack of response to name, delayed speech or language development, limited or no social smiling, and lack of gestures such as pointing or waving.'\n",
            " \"Autism is diagnosed through a combination of behavioral assessments, developmental screenings, parental interviews, and observations of the child's behavior and communication skills. There is no single medical test for autism diagnosis.\"\n",
            " 'The exact causes of autism are not fully understood, but research suggests a combination of genetic and environmental factors. Genetic predisposition, prenatal factors (such as advanced parental age or maternal illness), and certain genetic mutations may contribute to autism.'\n",
            " 'Currently, there is no cure for autism. However, early intervention and appropriate therapies can help improve skills and quality of life for individuals with autism.'\n",
            " 'Common symptoms include challenges in social communication and interaction, restricted interests, repetitive behaviors, sensory sensitivities, and sometimes intellectual disabilities or delays in language development.'\n",
            " 'Autism can affect communication skills by impairing the ability to understand and use language effectively. Some individuals may have delayed speech development, difficulty with conversation, or rely on alternative communication methods like gestures or picture communication systems.'\n",
            " 'Autism impacts social interactions by making it challenging to understand social cues, establish and maintain relationships, and engage in typical social behaviors such as taking turns or showing empathy. Social difficulties can vary widely among individuals with autism.'\n",
            " 'Sensory sensitivities refer to heightened or reduced sensitivity to sensory stimuli such as light, sound, touch, taste, or smell. Individuals with autism may experience sensory overload or seek sensory stimulation to regulate their sensory experiences.'\n",
            " 'Repetitive behaviors in autism can include repetitive movements (stimming), insistence on sameness or routines, fixated interests, and unusual sensory behaviors. These behaviors may serve to self-regulate, reduce anxiety, or provide sensory stimulation.'\n",
            " 'Stimming (self-stimulatory behavior) includes repetitive movements or actions such as hand-flapping, rocking, or spinning objects. Individuals with autism may stim to regulate sensory input, manage stress or anxiety, or as a way of expressing excitement or frustration.'\n",
            " 'Sensory issues can impact daily life by causing discomfort, anxiety, or sensory overload in response to specific sensory stimuli. These issues can affect behavior, communication, and the ability to participate in activities or environments that are sensory-rich.'\n",
            " 'Meltdowns are intense reactions triggered by overwhelming emotions or sensory overload. Managing meltdowns involves creating a calm environment, using calming techniques, and addressing the underlying triggers while ensuring safety and providing support.'\n",
            " 'Executive functioning skills include abilities such as planning, organization, decision-making, and self-regulation. Individuals with autism may struggle with these skills, which can impact daily tasks, time management, and goal-directed behavior.'\n",
            " 'Autism can affect learning by influencing how individuals process information, interact with peers and teachers, and engage in classroom activities. Specialized educational strategies and supports are often needed to accommodate learning differences and promote academic success.'\n",
            " 'Autism may affect language development by delaying speech onset, impairing the ability to understand and use language effectively, or leading to atypical language patterns such as echolalia (repeating words or phrases). Speech therapy and alternative communication methods can help improve communication skills.'\n",
            " 'Autism can impact motor skills, including fine motor skills (such as handwriting or manipulating small objects) and gross motor skills (such as coordination and balance). Occupational therapy may address these challenges and improve motor coordination and abilities.'\n",
            " 'Emotional regulation can be challenging for individuals with autism, leading to difficulties in identifying and expressing emotions, managing stress or anxiety, and understanding the emotions of others. Techniques such as mindfulness and sensory-based strategies can aid in emotional regulation.'\n",
            " 'Autism severity is often categorized into three levels based on the level of support needed: Level 1 (requiring support), Level 2 (requiring substantial support), and Level 3 (requiring very substantial support). These levels reflect the degree of impairment in social communication, behavior, and adaptive functioning.'\n",
            " 'Autism affects about 1 in 54 children in the United States according to the latest CDC prevalence estimates. The prevalence may vary across populations and geographic regions.'\n",
            " 'Common co-occurring conditions with autism include ADHD (Attention-Deficit/Hyperactivity Disorder), anxiety disorders, epilepsy, gastrointestinal issues, sensory processing disorders, and sleep disturbances.'\n",
            " 'Autism can disrupt sleep patterns, leading to difficulties falling asleep, staying asleep, or experiencing restful sleep. Sleep disturbances may affect daytime behavior, mood, and overall well-being.'\n",
            " 'Autism can affect eating habits through selective eating preferences, sensory sensitivities to certain textures or tastes, rigid eating routines, or difficulty with food transitions. Addressing these challenges may involve dietary adjustments and behavioral supports.'\n",
            " 'Genetics plays a significant role in autism, with evidence suggesting that certain genetic mutations and variations contribute to autism susceptibility. However, autism is complex, and genetic factors interact with environmental influences.'\n",
            " 'Prenatal factors such as maternal infections, exposure to toxins, maternal health conditions (e.g., gestational diabetes), and medications may influence the risk of autism. Research continues to explore the impact of prenatal factors on autism development.'\n",
            " 'Myths about autism include misconceptions about its causes (e.g., vaccines), stereotypes about behaviors and abilities, and outdated beliefs about autism being solely a childhood disorder. Understanding and dispelling myths promote accurate awareness and acceptance of autism.'\n",
            " 'Many notable individuals across various fields, including science, technology, arts, and advocacy, have been identified as being on the autism spectrum. Their achievements highlight the diversity of strengths and talents within the autism community.'\n",
            " 'Early detection involves monitoring developmental milestones, conducting screenings, and recognizing early signs of atypical development. Early intervention services can begin as soon as concerns arise about a child’s development.'\n",
            " 'Screening tools such as the M-CHAT (Modified Checklist for Autism in Toddlers), ADOS (Autism Diagnostic Observation Schedule), and other standardized assessments are used to evaluate social communication, behavior, and developmental milestones in children suspected of having autism.'\n",
            " 'Early intervention services, including therapies (e.g., ABA, speech therapy), developmental supports, and educational strategies, can help improve developmental outcomes, social skills, communication abilities, and independence for children with autism.'\n",
            " 'Effective therapies include Applied Behavior Analysis (ABA) therapy, speech therapy, occupational therapy, social skills training, sensory integration therapy, and cognitive-behavioral therapy. These therapies are tailored to address specific challenges and promote skill development.'\n",
            " 'ABA therapy is a structured, evidence-based intervention that focuses on improving socially significant behaviors, reducing challenging behaviors, and teaching new skills through positive reinforcement and systematic teaching methods.'\n",
            " 'Speech therapy helps individuals with autism improve communication skills, including speech production, language comprehension, expressive language, social communication, and pragmatic language skills.'\n",
            " 'Occupational therapy addresses fine motor skills, sensory processing, self-care skills (e.g., dressing, feeding), and daily living activities to promote independence and participation in daily routines for individuals with autism.'\n",
            " 'Social skills training teaches essential social skills such as initiating conversations, interpreting nonverbal cues, maintaining eye contact, and understanding social norms. These skills are crucial for improving social interactions and relationships.'\n",
            " 'Sensory integration therapy uses structured activities to help individuals with autism process and respond to sensory stimuli more effectively. It aims to reduce sensory sensitivities and enhance participation in daily activities.'\n",
            " 'Alternative therapies such as music therapy, art therapy, and animal-assisted therapy can complement traditional interventions by promoting relaxation, sensory regulation, self-expression, and social engagement in individuals with autism.'\n",
            " \"Parents can support their child with autism by establishing routines, using visual supports, promoting communication, providing sensory-friendly environments, and participating in therapies and educational activities tailored to their child's needs.\"\n",
            " 'Educators can support students with autism by implementing individualized education plans (IEPs), using visual supports, providing sensory accommodations, promoting peer interactions, and fostering a supportive learning environment that respects individual differences.'\n",
            " 'Strategies include using visual schedules, providing advance notice of changes, offering transition objects or routines, using positive reinforcement, and creating a predictable environment to reduce anxiety and support smooth transitions for individuals with autism.'\n",
            " 'Siblings can be supported through education about autism, promoting understanding and empathy, providing opportunities for bonding and shared activities, and offering emotional support and resources for coping with the unique challenges and rewards of having a sibling with autism.'\n",
            " 'Students with autism are entitled to educational services and accommodations under federal laws such as the Individuals with Disabilities Education Act (IDEA), which mandates appropriate educational supports and services to meet their individual needs.'\n",
            " 'Autism may impact family dynamics by requiring adjustments in parenting approaches, time management, financial resources, and social activities. Family members may experience stress but also opportunities for growth, understanding, and advocacy for their loved one with autism.'\n",
            " 'Communities can promote inclusion by raising awareness, providing sensory-friendly environments in public spaces, offering inclusive recreational programs and events, and supporting local autism organizations and initiatives that foster acceptance and support for individuals with autism.'\n",
            " 'Adults with autism may face challenges in finding and maintaining employment due to social communication difficulties, sensory sensitivities, and navigating workplace expectations. However, many individuals with autism possess valuable skills that can contribute to diverse workplaces.'\n",
            " 'Challenges include understanding social dynamics, advocating for accommodations, managing sensory sensitivities, accessing career development opportunities, and navigating workplace culture and expectations that may be challenging for individuals with autism.'\n",
            " 'Accommodations include flexible work schedules, designated quiet spaces, visual supports (e.g., instructions, checklists), clear communication strategies, sensory accommodations, and training for colleagues and supervisors to promote understanding and support.'\n",
            " 'Autism can impact friendships and social relationships by making it challenging to interpret social cues, establish connections, and maintain reciprocal interactions. However, with support and understanding, individuals with autism can develop meaningful relationships.'\n",
            " 'Autism may affect romantic relationships by influencing communication styles, social interactions, and understanding of emotional cues and intimacy. Supportive relationships, clear communication, and mutual understanding are important factors in fostering successful romantic relationships for individuals with autism.'\n",
            " 'Technology can assist individuals with autism by providing communication aids (e.g., AAC devices), social skills apps, sensory regulation tools, virtual supports for remote learning, and assistive technologies that support independence and participation in daily activities.']\n",
            "Dataset saved to /content/drive/MyDrive/train_dataset\n",
            "Dataset saved to /content/drive/MyDrive/val_dataset\n",
            "Dataset loaded from /content/drive/MyDrive/train_dataset\n",
            "Dataset loaded from /content/drive/MyDrive/val_dataset\n",
            "Training dataset size: 5\n",
            "Validation dataset size: 2\n"
          ]
        },
        {
          "output_type": "stream",
          "name": "stderr",
          "text": [
            "All PyTorch model weights were used when initializing TFBertForSequenceClassification.\n",
            "\n",
            "Some weights or buffers of the TF 2.0 model TFBertForSequenceClassification were not initialized from the PyTorch model and are newly initialized: ['classifier.weight', 'classifier.bias']\n",
            "You should probably TRAIN this model on a down-stream task to be able to use it for predictions and inference.\n"
          ]
        },
        {
          "output_type": "stream",
          "name": "stdout",
          "text": [
            "Model: \"tf_bert_for_sequence_classification_12\"\n",
            "_________________________________________________________________\n",
            " Layer (type)                Output Shape              Param #   \n",
            "=================================================================\n",
            " bert (TFBertMainLayer)      multiple                  109482240 \n",
            "                                                                 \n",
            " dropout_639 (Dropout)       multiple                  0 (unused)\n",
            "                                                                 \n",
            " classifier (Dense)          multiple                  38450     \n",
            "                                                                 \n",
            "=================================================================\n",
            "Total params: 109520690 (417.79 MB)\n",
            "Trainable params: 109520690 (417.79 MB)\n",
            "Non-trainable params: 0 (0.00 Byte)\n",
            "_________________________________________________________________\n",
            "Epoch 1/3\n",
            "5/5 [==============================] - 128s 9s/step - loss: 4.0710 - val_loss: 3.9891\n",
            "Epoch 2/3\n",
            "5/5 [==============================] - 22s 4s/step - loss: 4.1632 - val_loss: 3.7630\n",
            "Epoch 3/3\n",
            "5/5 [==============================] - 22s 5s/step - loss: 4.1403 - val_loss: 6.0947\n",
            "{'loss': [4.071023464202881, 4.16321325302124, 4.140284538269043], 'val_loss': [3.9890975952148438, 3.763047695159912, 6.094704627990723]}\n"
          ]
        }
      ]
    },
    {
      "cell_type": "code",
      "source": [
        "# Semantic search function using Universal Sentence Encoder\n",
        "# Load Universal Sentence Encoder (USE) model\n",
        "use_model = hub.load('https://tfhub.dev/google/universal-sentence-encoder-large/5')\n",
        "\n",
        "# Function for semantic search using Universal Sentence Encoder (USE)\n",
        "def semantic_search(corpus, query):\n",
        "    query_embedding = use_model([query])[0]\n",
        "    corpus_embeddings = use_model(corpus)\n",
        "    similarity = np.inner(query_embedding, corpus_embeddings)\n",
        "    closest = np.argmax(similarity)\n",
        "    return corpus[closest]\n",
        "\n",
        "# Example usage of semantic search\n",
        "data = pd.read_csv('/content/drive/MyDrive/AutsimChatbox_datatset.csv')\n",
        "corpus = data['Patterns'].apply(preprocess_text).tolist()\n",
        "query = \"How does autism affect sleep patterns?\"\n",
        "\n",
        "most_similar_text = semantic_search(corpus, query)\n",
        "print(\"Most similar text:\", most_similar_text)"
      ],
      "metadata": {
        "id": "epKB-KBf23yD",
        "colab": {
          "base_uri": "https://localhost:8080/"
        },
        "outputId": "583aa8c4-5d1b-429b-8fb4-7ffe8fce8998"
      },
      "execution_count": 58,
      "outputs": [
        {
          "output_type": "stream",
          "name": "stdout",
          "text": [
            "Most similar text: how does autism impact sleep?\n"
          ]
        }
      ]
    },
    {
      "cell_type": "code",
      "source": [
        "def evaluate_model(model, val_dataset, df):\n",
        "    predictions = []\n",
        "    labels = []\n",
        "\n",
        "    for batch in val_dataset:\n",
        "        inputs, batch_labels = batch\n",
        "        batch_predictions = model(inputs)\n",
        "        batch_predictions = tf.argmax(batch_predictions.logits, axis=-1).numpy()\n",
        "\n",
        "        predictions.extend(batch_predictions)\n",
        "        labels.extend(batch_labels.numpy())\n",
        "\n",
        "    # Get ALL unique labels from the DataFrame (in the original order)\n",
        "    target_names = df['Answers'].unique()\n",
        "\n",
        "    # Filter predictions and labels to include only classes present in the validation set\n",
        "    unique_labels_in_val = np.unique(labels)  # Define unique_labels_in_val\n",
        "    valid_indices = np.isin(predictions, unique_labels_in_val)\n",
        "    predictions = np.array(predictions)[valid_indices]\n",
        "    labels = np.array(labels)[valid_indices]\n",
        "\n",
        "    # Only include target names for the unique labels present in the validation set\n",
        "    target_names_in_val = target_names[unique_labels_in_val]\n",
        "\n",
        "    report = classification_report(labels, predictions, target_names=target_names_in_val)\n",
        "    print(report)\n",
        "\n",
        "def predict(model, question, df): # Add df as argument\n",
        "    tokenizer = BertTokenizer.from_pretrained('bert-base-uncased')\n",
        "    inputs = tokenizer(question, return_tensors='tf', truncation=True, padding=True)\n",
        "    outputs = model(inputs)\n",
        "    prediction = tf.argmax(outputs.logits, axis=-1).numpy()\n",
        "\n",
        "    # Use df to get the answer\n",
        "    answer = df['Answers'].unique()[prediction[0]]\n",
        "    return answer\n",
        "\n",
        "def chatbot_interface(model, df): # Add model and df as arguments\n",
        "    print(\"Welcome to the Autism Support Chatbot!\")\n",
        "    print(\"You can ask me any questions related to autism support.\")\n",
        "    print(\"Type 'exit' to end the conversation.\")\n",
        "\n",
        "    while True:\n",
        "        question = input(\"You: \")\n",
        "        if question.lower() == 'exit':\n",
        "            print(\"Goodbye!\")\n",
        "            break\n",
        "\n",
        "        answer = predict(model, question, df) # Pass df to predict\n",
        "        print(\"Chatbot:\", answer)\n",
        "\n",
        "# Example mock-up test dataset creation\n",
        "val_dataset = load_dataset('/content/drive/MyDrive/val_dataset')\n",
        "df = pd.read_csv('/content/drive/MyDrive/AutsimChatbox_datatset.csv') # Load the DataFrame\n",
        "\n",
        "# Evaluate the model, passing the DataFrame\n",
        "evaluate_model(model, val_dataset, df)\n",
        "\n",
        "# Run the chatbot interface, passing the model and DataFrame\n",
        "chatbot_interface(model, df)"
      ],
      "metadata": {
        "colab": {
          "base_uri": "https://localhost:8080/"
        },
        "id": "CI7zs-vcHo9S",
        "outputId": "4a003def-952d-4c48-efb9-cb2adc2bdd3c"
      },
      "execution_count": 64,
      "outputs": [
        {
          "output_type": "stream",
          "name": "stdout",
          "text": [
            "Dataset loaded from /content/drive/MyDrive/val_dataset\n"
          ]
        },
        {
          "output_type": "error",
          "ename": "ValueError",
          "evalue": "Number of classes, 0, does not match size of target_names, 10. Try specifying the labels parameter",
          "traceback": [
            "\u001b[0;31m---------------------------------------------------------------------------\u001b[0m",
            "\u001b[0;31mValueError\u001b[0m                                Traceback (most recent call last)",
            "\u001b[0;32m<ipython-input-64-4b84cb805185>\u001b[0m in \u001b[0;36m<cell line: 57>\u001b[0;34m()\u001b[0m\n\u001b[1;32m     55\u001b[0m \u001b[0;34m\u001b[0m\u001b[0m\n\u001b[1;32m     56\u001b[0m \u001b[0;31m# Evaluate the model, passing the DataFrame\u001b[0m\u001b[0;34m\u001b[0m\u001b[0;34m\u001b[0m\u001b[0m\n\u001b[0;32m---> 57\u001b[0;31m \u001b[0mevaluate_model\u001b[0m\u001b[0;34m(\u001b[0m\u001b[0mmodel\u001b[0m\u001b[0;34m,\u001b[0m \u001b[0mval_dataset\u001b[0m\u001b[0;34m,\u001b[0m \u001b[0mdf\u001b[0m\u001b[0;34m)\u001b[0m\u001b[0;34m\u001b[0m\u001b[0;34m\u001b[0m\u001b[0m\n\u001b[0m\u001b[1;32m     58\u001b[0m \u001b[0;34m\u001b[0m\u001b[0m\n\u001b[1;32m     59\u001b[0m \u001b[0;31m# Run the chatbot interface, passing the model and DataFrame\u001b[0m\u001b[0;34m\u001b[0m\u001b[0;34m\u001b[0m\u001b[0m\n",
            "\u001b[0;32m<ipython-input-64-4b84cb805185>\u001b[0m in \u001b[0;36mevaluate_model\u001b[0;34m(model, val_dataset, df)\u001b[0m\n\u001b[1;32m     23\u001b[0m     \u001b[0mtarget_names_in_val\u001b[0m \u001b[0;34m=\u001b[0m \u001b[0mtarget_names\u001b[0m\u001b[0;34m[\u001b[0m\u001b[0munique_labels_in_val\u001b[0m\u001b[0;34m]\u001b[0m\u001b[0;34m\u001b[0m\u001b[0;34m\u001b[0m\u001b[0m\n\u001b[1;32m     24\u001b[0m \u001b[0;34m\u001b[0m\u001b[0m\n\u001b[0;32m---> 25\u001b[0;31m     \u001b[0mreport\u001b[0m \u001b[0;34m=\u001b[0m \u001b[0mclassification_report\u001b[0m\u001b[0;34m(\u001b[0m\u001b[0mlabels\u001b[0m\u001b[0;34m,\u001b[0m \u001b[0mpredictions\u001b[0m\u001b[0;34m,\u001b[0m \u001b[0mtarget_names\u001b[0m\u001b[0;34m=\u001b[0m\u001b[0mtarget_names_in_val\u001b[0m\u001b[0;34m)\u001b[0m\u001b[0;34m\u001b[0m\u001b[0;34m\u001b[0m\u001b[0m\n\u001b[0m\u001b[1;32m     26\u001b[0m     \u001b[0mprint\u001b[0m\u001b[0;34m(\u001b[0m\u001b[0mreport\u001b[0m\u001b[0;34m)\u001b[0m\u001b[0;34m\u001b[0m\u001b[0;34m\u001b[0m\u001b[0m\n\u001b[1;32m     27\u001b[0m \u001b[0;34m\u001b[0m\u001b[0m\n",
            "\u001b[0;32m/usr/local/lib/python3.10/dist-packages/sklearn/metrics/_classification.py\u001b[0m in \u001b[0;36mclassification_report\u001b[0;34m(y_true, y_pred, labels, target_names, sample_weight, digits, output_dict, zero_division)\u001b[0m\n\u001b[1;32m   2330\u001b[0m             )\n\u001b[1;32m   2331\u001b[0m         \u001b[0;32melse\u001b[0m\u001b[0;34m:\u001b[0m\u001b[0;34m\u001b[0m\u001b[0;34m\u001b[0m\u001b[0m\n\u001b[0;32m-> 2332\u001b[0;31m             raise ValueError(\n\u001b[0m\u001b[1;32m   2333\u001b[0m                 \u001b[0;34m\"Number of classes, {0}, does not match size of \"\u001b[0m\u001b[0;34m\u001b[0m\u001b[0;34m\u001b[0m\u001b[0m\n\u001b[1;32m   2334\u001b[0m                 \u001b[0;34m\"target_names, {1}. Try specifying the labels \"\u001b[0m\u001b[0;34m\u001b[0m\u001b[0;34m\u001b[0m\u001b[0m\n",
            "\u001b[0;31mValueError\u001b[0m: Number of classes, 0, does not match size of target_names, 10. Try specifying the labels parameter"
          ]
        }
      ]
    },
    {
      "cell_type": "code",
      "source": [],
      "metadata": {
        "id": "HDKTlb3hHYzz"
      },
      "execution_count": null,
      "outputs": []
    }
  ]
}