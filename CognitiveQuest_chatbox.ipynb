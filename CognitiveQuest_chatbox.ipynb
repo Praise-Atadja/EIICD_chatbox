{
  "nbformat": 4,
  "nbformat_minor": 0,
  "metadata": {
    "colab": {
      "provenance": [],
      "gpuType": "T4",
      "authorship_tag": "ABX9TyOkFDJMwQ19Sh/JlFQloLp+",
      "include_colab_link": true
    },
    "kernelspec": {
      "name": "python3",
      "display_name": "Python 3"
    },
    "language_info": {
      "name": "python"
    },
    "accelerator": "GPU"
  },
  "cells": [
    {
      "cell_type": "markdown",
      "metadata": {
        "id": "view-in-github",
        "colab_type": "text"
      },
      "source": [
        "<a href=\"https://colab.research.google.com/github/Praise-Atadja/EIICD_chatbox/blob/main/CognitiveQuest_chatbox.ipynb\" target=\"_parent\"><img src=\"https://colab.research.google.com/assets/colab-badge.svg\" alt=\"Open In Colab\"/></a>"
      ]
    },
    {
      "cell_type": "markdown",
      "source": [
        "\n",
        "\n",
        "# **PROJECT NAME:**\n",
        "\n",
        "##EARLY INTERVENTION INTELLIGENCE FOR COGNITIVE DEVELOPMENT (EIICD) CHATBOX\n",
        "\n",
        "\n",
        "---"
      ],
      "metadata": {
        "id": "5bGXGwrGhp7j"
      }
    },
    {
      "cell_type": "code",
      "execution_count": 29,
      "metadata": {
        "id": "Gc2u7CfVCEcR",
        "outputId": "429a2cc3-7283-41f8-9488-e69b6186ed30",
        "colab": {
          "base_uri": "https://localhost:8080/"
        }
      },
      "outputs": [
        {
          "output_type": "stream",
          "name": "stdout",
          "text": [
            "Drive already mounted at /content/drive; to attempt to forcibly remount, call drive.mount(\"/content/drive\", force_remount=True).\n"
          ]
        }
      ],
      "source": [
        "# Import necessary libraries\n",
        "import os\n",
        "import numpy as np\n",
        "import tensorflow as tf\n",
        "import tensorflow_hub as hub\n",
        "from transformers import BertTokenizer, TFBertForSequenceClassification\n",
        "from tensorflow.keras.optimizers import Adam # Import the Adam optimizer\n",
        "from sklearn.model_selection import train_test_split\n",
        "import pandas as pd\n",
        "import re\n",
        "model.compile(optimizer='adam', loss=loss) # Pass 'adam' as a string\n",
        "from sklearn.metrics import classification_report\n",
        "import joblib\n",
        "import tensorflow_hub as hub\n",
        "from google.colab import drive\n",
        "drive.mount('/content/drive')\n"
      ]
    },
    {
      "cell_type": "code",
      "source": [
        "# Load the dataset\n",
        "df = pd.read_csv('/content/drive/MyDrive/AutsimChatbox_datatset.csv')\n",
        "\n",
        "def preprocess_text(text):\n",
        "    import re\n",
        "    text = text.lower()  # Convert text to lowercase\n",
        "    text = re.sub(r'[^a-z\\s]', '', text)  # Remove special characters and digits\n",
        "    text = ' '.join(text.split())  # Remove extra whitespaces\n",
        "    return text"
      ],
      "metadata": {
        "id": "ro9sny39rlLj"
      },
      "execution_count": 13,
      "outputs": []
    },
    {
      "cell_type": "code",
      "source": [
        "def create_dataset_from_csv(csv_path):\n",
        "    df = pd.read_csv('/content/drive/MyDrive/AutsimChatbox_datatset.csv')\n",
        "    df['Questions'] = df['Questions'].apply(preprocess_text)\n",
        "    texts = df['Questions'].tolist()\n",
        "    unique_answers = df['Answers'].unique()\n",
        "    num_labels = len(unique_answers)\n",
        "\n",
        "    print(\"Unique labels:\", unique_answers)\n",
        "\n",
        "    labels, _ = pd.factorize(df['Answers'])\n",
        "    labels = labels.tolist()\n",
        "\n",
        "    tokenizer = BertTokenizer.from_pretrained('bert-base-uncased')\n",
        "    encodings = tokenizer(texts, truncation=True, padding=True, return_tensors='tf')\n",
        "\n",
        "    # Splitting the data\n",
        "    train_indices, val_indices = train_test_split(\n",
        "        range(len(labels)), test_size=0.2, random_state=42\n",
        "    )\n",
        "\n",
        "    # Use the indices to extract the data\n",
        "    train_encodings = {\n",
        "        'input_ids': tf.gather(encodings['input_ids'], train_indices),\n",
        "        'attention_mask': tf.gather(encodings['attention_mask'], train_indices),\n",
        "        'token_type_ids': tf.gather(encodings['token_type_ids'], train_indices)\n",
        "    }\n",
        "    val_encodings = {\n",
        "        'input_ids': tf.gather(encodings['input_ids'], val_indices),\n",
        "        'attention_mask': tf.gather(encodings['attention_mask'], val_indices),\n",
        "        'token_type_ids': tf.gather(encodings['token_type_ids'], val_indices)\n",
        "    }\n",
        "    train_labels = tf.gather(labels, train_indices)\n",
        "    val_labels = tf.gather(labels, val_indices)\n",
        "\n",
        "    # Create TensorFlow datasets\n",
        "    train_dataset = tf.data.Dataset.from_tensor_slices((\n",
        "        train_encodings,\n",
        "        train_labels\n",
        "    )).batch(8)\n",
        "\n",
        "    val_dataset = tf.data.Dataset.from_tensor_slices((\n",
        "        val_encodings,\n",
        "        val_labels\n",
        "    )).batch(8)\n",
        "\n",
        "    return train_dataset, val_dataset, num_labels, tokenizer"
      ],
      "metadata": {
        "id": "GR7fzhlsuExV"
      },
      "execution_count": 15,
      "outputs": []
    },
    {
      "cell_type": "code",
      "source": [
        "def save_dataset(dataset, path):\n",
        "    tf.data.experimental.save(dataset, path)\n",
        "    print(f\"Dataset saved to {path}\")\n",
        "\n",
        "def load_dataset(path):\n",
        "    dataset = tf.data.experimental.load(path)\n",
        "    print(f\"Dataset loaded from {path}\")\n",
        "    return dataset\n",
        "\n",
        "# Load the dataset and get the number of labels\n",
        "train_dataset, val_dataset, num_labels, tokenizer = create_dataset_from_csv('/content/drive/MyDrive/AutsimChatbox_datatset.csv')\n",
        "\n",
        "# Save the datasets\n",
        "save_dataset(train_dataset, '/content/drive/MyDrive/train_dataset')\n",
        "save_dataset(val_dataset, '/content/drive/MyDrive/val_dataset')\n",
        "\n",
        "# Load the datasets\n",
        "train_dataset = load_dataset('/content/drive/MyDrive/train_dataset')\n",
        "val_dataset = load_dataset('/content/drive/MyDrive/val_dataset')\n",
        "\n",
        "print(f\"Training dataset size: {len(train_dataset)}\")\n",
        "print(f\"Validation dataset size: {len(val_dataset)}\")"
      ],
      "metadata": {
        "id": "3P1QUjpJfoTD",
        "colab": {
          "base_uri": "https://localhost:8080/"
        },
        "outputId": "5413ae80-e0d8-4d59-99cd-7eae2509d7b7"
      },
      "execution_count": 16,
      "outputs": [
        {
          "output_type": "stream",
          "name": "stdout",
          "text": [
            "Unique labels: ['Autism spectrum disorder (ASD) is a developmental disorder that affects communication, behavior, and social interaction. It includes a wide range of conditions characterized by challenges with social skills, repetitive behaviors, speech, and nonverbal communication.'\n",
            " 'Early signs may include reduced eye contact, lack of response to name, delayed speech or language development, limited or no social smiling, and lack of gestures such as pointing or waving.'\n",
            " \"Autism is diagnosed through a combination of behavioral assessments, developmental screenings, parental interviews, and observations of the child's behavior and communication skills. There is no single medical test for autism diagnosis.\"\n",
            " 'The exact causes of autism are not fully understood, but research suggests a combination of genetic and environmental factors. Genetic predisposition, prenatal factors (such as advanced parental age or maternal illness), and certain genetic mutations may contribute to autism.'\n",
            " 'Currently, there is no cure for autism. However, early intervention and appropriate therapies can help improve skills and quality of life for individuals with autism.'\n",
            " 'Common symptoms include challenges in social communication and interaction, restricted interests, repetitive behaviors, sensory sensitivities, and sometimes intellectual disabilities or delays in language development.'\n",
            " 'Autism can affect communication skills by impairing the ability to understand and use language effectively. Some individuals may have delayed speech development, difficulty with conversation, or rely on alternative communication methods like gestures or picture communication systems.'\n",
            " 'Autism impacts social interactions by making it challenging to understand social cues, establish and maintain relationships, and engage in typical social behaviors such as taking turns or showing empathy. Social difficulties can vary widely among individuals with autism.'\n",
            " 'Sensory sensitivities refer to heightened or reduced sensitivity to sensory stimuli such as light, sound, touch, taste, or smell. Individuals with autism may experience sensory overload or seek sensory stimulation to regulate their sensory experiences.'\n",
            " 'Repetitive behaviors in autism can include repetitive movements (stimming), insistence on sameness or routines, fixated interests, and unusual sensory behaviors. These behaviors may serve to self-regulate, reduce anxiety, or provide sensory stimulation.'\n",
            " 'Stimming (self-stimulatory behavior) includes repetitive movements or actions such as hand-flapping, rocking, or spinning objects. Individuals with autism may stim to regulate sensory input, manage stress or anxiety, or as a way of expressing excitement or frustration.'\n",
            " 'Sensory issues can impact daily life by causing discomfort, anxiety, or sensory overload in response to specific sensory stimuli. These issues can affect behavior, communication, and the ability to participate in activities or environments that are sensory-rich.'\n",
            " 'Meltdowns are intense reactions triggered by overwhelming emotions or sensory overload. Managing meltdowns involves creating a calm environment, using calming techniques, and addressing the underlying triggers while ensuring safety and providing support.'\n",
            " 'Executive functioning skills include abilities such as planning, organization, decision-making, and self-regulation. Individuals with autism may struggle with these skills, which can impact daily tasks, time management, and goal-directed behavior.'\n",
            " 'Autism can affect learning by influencing how individuals process information, interact with peers and teachers, and engage in classroom activities. Specialized educational strategies and supports are often needed to accommodate learning differences and promote academic success.'\n",
            " 'Autism may affect language development by delaying speech onset, impairing the ability to understand and use language effectively, or leading to atypical language patterns such as echolalia (repeating words or phrases). Speech therapy and alternative communication methods can help improve communication skills.'\n",
            " 'Autism can impact motor skills, including fine motor skills (such as handwriting or manipulating small objects) and gross motor skills (such as coordination and balance). Occupational therapy may address these challenges and improve motor coordination and abilities.'\n",
            " 'Emotional regulation can be challenging for individuals with autism, leading to difficulties in identifying and expressing emotions, managing stress or anxiety, and understanding the emotions of others. Techniques such as mindfulness and sensory-based strategies can aid in emotional regulation.'\n",
            " 'Autism severity is often categorized into three levels based on the level of support needed: Level 1 (requiring support), Level 2 (requiring substantial support), and Level 3 (requiring very substantial support). These levels reflect the degree of impairment in social communication, behavior, and adaptive functioning.'\n",
            " 'Autism affects about 1 in 54 children in the United States according to the latest CDC prevalence estimates. The prevalence may vary across populations and geographic regions.'\n",
            " 'Common co-occurring conditions with autism include ADHD (Attention-Deficit/Hyperactivity Disorder), anxiety disorders, epilepsy, gastrointestinal issues, sensory processing disorders, and sleep disturbances.'\n",
            " 'Autism can disrupt sleep patterns, leading to difficulties falling asleep, staying asleep, or experiencing restful sleep. Sleep disturbances may affect daytime behavior, mood, and overall well-being.'\n",
            " 'Autism can affect eating habits through selective eating preferences, sensory sensitivities to certain textures or tastes, rigid eating routines, or difficulty with food transitions. Addressing these challenges may involve dietary adjustments and behavioral supports.'\n",
            " 'Genetics plays a significant role in autism, with evidence suggesting that certain genetic mutations and variations contribute to autism susceptibility. However, autism is complex, and genetic factors interact with environmental influences.'\n",
            " 'Prenatal factors such as maternal infections, exposure to toxins, maternal health conditions (e.g., gestational diabetes), and medications may influence the risk of autism. Research continues to explore the impact of prenatal factors on autism development.'\n",
            " 'Myths about autism include misconceptions about its causes (e.g., vaccines), stereotypes about behaviors and abilities, and outdated beliefs about autism being solely a childhood disorder. Understanding and dispelling myths promote accurate awareness and acceptance of autism.'\n",
            " 'Many notable individuals across various fields, including science, technology, arts, and advocacy, have been identified as being on the autism spectrum. Their achievements highlight the diversity of strengths and talents within the autism community.'\n",
            " 'Early detection involves monitoring developmental milestones, conducting screenings, and recognizing early signs of atypical development. Early intervention services can begin as soon as concerns arise about a child’s development.'\n",
            " 'Screening tools such as the M-CHAT (Modified Checklist for Autism in Toddlers), ADOS (Autism Diagnostic Observation Schedule), and other standardized assessments are used to evaluate social communication, behavior, and developmental milestones in children suspected of having autism.'\n",
            " 'Early intervention services, including therapies (e.g., ABA, speech therapy), developmental supports, and educational strategies, can help improve developmental outcomes, social skills, communication abilities, and independence for children with autism.'\n",
            " 'Effective therapies include Applied Behavior Analysis (ABA) therapy, speech therapy, occupational therapy, social skills training, sensory integration therapy, and cognitive-behavioral therapy. These therapies are tailored to address specific challenges and promote skill development.'\n",
            " 'ABA therapy is a structured, evidence-based intervention that focuses on improving socially significant behaviors, reducing challenging behaviors, and teaching new skills through positive reinforcement and systematic teaching methods.'\n",
            " 'Speech therapy helps individuals with autism improve communication skills, including speech production, language comprehension, expressive language, social communication, and pragmatic language skills.'\n",
            " 'Occupational therapy addresses fine motor skills, sensory processing, self-care skills (e.g., dressing, feeding), and daily living activities to promote independence and participation in daily routines for individuals with autism.'\n",
            " 'Social skills training teaches essential social skills such as initiating conversations, interpreting nonverbal cues, maintaining eye contact, and understanding social norms. These skills are crucial for improving social interactions and relationships.'\n",
            " 'Sensory integration therapy uses structured activities to help individuals with autism process and respond to sensory stimuli more effectively. It aims to reduce sensory sensitivities and enhance participation in daily activities.'\n",
            " 'Alternative therapies such as music therapy, art therapy, and animal-assisted therapy can complement traditional interventions by promoting relaxation, sensory regulation, self-expression, and social engagement in individuals with autism.'\n",
            " \"Parents can support their child with autism by establishing routines, using visual supports, promoting communication, providing sensory-friendly environments, and participating in therapies and educational activities tailored to their child's needs.\"\n",
            " 'Educators can support students with autism by implementing individualized education plans (IEPs), using visual supports, providing sensory accommodations, promoting peer interactions, and fostering a supportive learning environment that respects individual differences.'\n",
            " 'Strategies include using visual schedules, providing advance notice of changes, offering transition objects or routines, using positive reinforcement, and creating a predictable environment to reduce anxiety and support smooth transitions for individuals with autism.'\n",
            " 'Siblings can be supported through education about autism, promoting understanding and empathy, providing opportunities for bonding and shared activities, and offering emotional support and resources for coping with the unique challenges and rewards of having a sibling with autism.'\n",
            " 'Students with autism are entitled to educational services and accommodations under federal laws such as the Individuals with Disabilities Education Act (IDEA), which mandates appropriate educational supports and services to meet their individual needs.'\n",
            " 'Autism may impact family dynamics by requiring adjustments in parenting approaches, time management, financial resources, and social activities. Family members may experience stress but also opportunities for growth, understanding, and advocacy for their loved one with autism.'\n",
            " 'Communities can promote inclusion by raising awareness, providing sensory-friendly environments in public spaces, offering inclusive recreational programs and events, and supporting local autism organizations and initiatives that foster acceptance and support for individuals with autism.'\n",
            " 'Adults with autism may face challenges in finding and maintaining employment due to social communication difficulties, sensory sensitivities, and navigating workplace expectations. However, many individuals with autism possess valuable skills that can contribute to diverse workplaces.'\n",
            " 'Challenges include understanding social dynamics, advocating for accommodations, managing sensory sensitivities, accessing career development opportunities, and navigating workplace culture and expectations that may be challenging for individuals with autism.'\n",
            " 'Accommodations include flexible work schedules, designated quiet spaces, visual supports (e.g., instructions, checklists), clear communication strategies, sensory accommodations, and training for colleagues and supervisors to promote understanding and support.'\n",
            " 'Autism can impact friendships and social relationships by making it challenging to interpret social cues, establish connections, and maintain reciprocal interactions. However, with support and understanding, individuals with autism can develop meaningful relationships.'\n",
            " 'Autism may affect romantic relationships by influencing communication styles, social interactions, and understanding of emotional cues and intimacy. Supportive relationships, clear communication, and mutual understanding are important factors in fostering successful romantic relationships for individuals with autism.'\n",
            " 'Technology can assist individuals with autism by providing communication aids (e.g., AAC devices), social skills apps, sensory regulation tools, virtual supports for remote learning, and assistive technologies that support independence and participation in daily activities.']\n",
            "Dataset saved to /content/drive/MyDrive/train_dataset\n",
            "Dataset saved to /content/drive/MyDrive/val_dataset\n",
            "Dataset loaded from /content/drive/MyDrive/train_dataset\n",
            "Dataset loaded from /content/drive/MyDrive/val_dataset\n",
            "Training dataset size: 5\n",
            "Validation dataset size: 2\n"
          ]
        }
      ]
    },
    {
      "cell_type": "code",
      "source": [
        "# Define the model with the correct number of labels\n",
        "model = TFBertForSequenceClassification.from_pretrained('bert-base-uncased', num_labels=num_labels)\n",
        "\n",
        "# Define the loss function\n",
        "loss = tf.keras.losses.SparseCategoricalCrossentropy(from_logits=True)\n",
        "\n",
        "# Compile the model using string identifier for optimizer\n",
        "optimizer = Adam(learning_rate=2e-5)\n",
        "model.compile(optimizer='adam', loss=loss) # Pass 'adam' as a string\n",
        "\n",
        "# Print the model summary\n",
        "model.summary()\n",
        "\n",
        "# Train the model with detailed logging\n",
        "history = model.fit(train_dataset, validation_data=val_dataset, epochs=3)"
      ],
      "metadata": {
        "id": "TT_Nxp7Egk-9",
        "colab": {
          "base_uri": "https://localhost:8080/"
        },
        "outputId": "980dc50f-fd39-4ccd-e347-7bbb6efce508"
      },
      "execution_count": 23,
      "outputs": [
        {
          "output_type": "stream",
          "name": "stderr",
          "text": [
            "All PyTorch model weights were used when initializing TFBertForSequenceClassification.\n",
            "\n",
            "Some weights or buffers of the TF 2.0 model TFBertForSequenceClassification were not initialized from the PyTorch model and are newly initialized: ['classifier.weight', 'classifier.bias']\n",
            "You should probably TRAIN this model on a down-stream task to be able to use it for predictions and inference.\n"
          ]
        },
        {
          "output_type": "stream",
          "name": "stdout",
          "text": [
            "Model: \"tf_bert_for_sequence_classification_2\"\n",
            "_________________________________________________________________\n",
            " Layer (type)                Output Shape              Param #   \n",
            "=================================================================\n",
            " bert (TFBertMainLayer)      multiple                  109482240 \n",
            "                                                                 \n",
            " dropout_113 (Dropout)       multiple                  0 (unused)\n",
            "                                                                 \n",
            " classifier (Dense)          multiple                  38450     \n",
            "                                                                 \n",
            "=================================================================\n",
            "Total params: 109520690 (417.79 MB)\n",
            "Trainable params: 109520690 (417.79 MB)\n",
            "Non-trainable params: 0 (0.00 Byte)\n",
            "_________________________________________________________________\n",
            "Epoch 1/3\n"
          ]
        },
        {
          "output_type": "stream",
          "name": "stderr",
          "text": [
            "WARNING:tensorflow:AutoGraph could not transform <function infer_framework at 0x7dfec43a1480> and will run it as-is.\n",
            "Cause: for/else statement not yet supported\n",
            "To silence this warning, decorate the function with @tf.autograph.experimental.do_not_convert\n"
          ]
        },
        {
          "output_type": "stream",
          "name": "stdout",
          "text": [
            "WARNING: AutoGraph could not transform <function infer_framework at 0x7dfec43a1480> and will run it as-is.\n",
            "Cause: for/else statement not yet supported\n",
            "To silence this warning, decorate the function with @tf.autograph.experimental.do_not_convert\n",
            "5/5 [==============================] - 101s 3s/step - loss: 4.1790 - val_loss: 4.0730\n",
            "Epoch 2/3\n",
            "5/5 [==============================] - 1s 117ms/step - loss: 4.5945 - val_loss: 5.2070\n",
            "Epoch 3/3\n",
            "5/5 [==============================] - 0s 103ms/step - loss: 4.1697 - val_loss: 5.8493\n"
          ]
        }
      ]
    },
    {
      "cell_type": "code",
      "source": [
        "# Save the fine-tuned model and tokenizer as a pickle file\n",
        "model_save_path = '/content/drive/MyDrive/fine_tuned_bert_model.pkl'\n",
        "model_config = {\n",
        "    'model': model.get_config(),\n",
        "    'weights': model.get_weights(),\n",
        "    'tokenizer': tokenizer\n",
        "}\n",
        "\n",
        "joblib.dump(model_config, model_save_path)\n",
        "print(f\"Model and tokenizer saved to {model_save_path}\")\n",
        "\n",
        "# Print the training history\n",
        "print(history.history)\n",
        "\n",
        "def load_model_from_pkl(pkl_path):\n",
        "    model_config = joblib.load(pkl_path)\n",
        "    model = TFBertForSequenceClassification.from_pretrained('bert-base-uncased', num_labels=num_labels)\n",
        "    model.set_weights(model_config['weights'])\n",
        "    tokenizer = model_config['tokenizer']\n",
        "    return model, tokenizer\n",
        "\n",
        "# Load the model and tokenizer from the pickle file\n",
        "loaded_model, loaded_tokenizer = load_model_from_pkl(model_save_path)\n",
        "print(\"Model and tokenizer loaded from pickle file\")"
      ],
      "metadata": {
        "id": "QuOEsnychS3D",
        "colab": {
          "base_uri": "https://localhost:8080/"
        },
        "outputId": "a55ce9e8-783f-4c21-e9e6-7dd8d73745dc"
      },
      "execution_count": 26,
      "outputs": [
        {
          "output_type": "stream",
          "name": "stdout",
          "text": [
            "Model and tokenizer saved to /content/drive/MyDrive/fine_tuned_bert_model.pkl\n",
            "{'loss': [4.178988456726074, 4.59453821182251, 4.169716835021973], 'val_loss': [4.073044300079346, 5.207024097442627, 5.849319934844971]}\n"
          ]
        },
        {
          "output_type": "stream",
          "name": "stderr",
          "text": [
            "All PyTorch model weights were used when initializing TFBertForSequenceClassification.\n",
            "\n",
            "Some weights or buffers of the TF 2.0 model TFBertForSequenceClassification were not initialized from the PyTorch model and are newly initialized: ['classifier.weight', 'classifier.bias']\n",
            "You should probably TRAIN this model on a down-stream task to be able to use it for predictions and inference.\n"
          ]
        },
        {
          "output_type": "stream",
          "name": "stdout",
          "text": [
            "Model and tokenizer loaded from pickle file\n"
          ]
        }
      ]
    },
    {
      "cell_type": "code",
      "source": [
        "def prepare_input_tensors(question, reference, max_length=512):\n",
        "    quest_toks = tokenizer.tokenize(question)\n",
        "    text_toks = tokenizer.tokenize(reference)\n",
        "    tokens = ['[CLS]'] + quest_toks + ['[SEP]'] + text_toks + ['[SEP]']\n",
        "\n",
        "    # Truncate if tokens exceed max length\n",
        "    if len(tokens) > max_length:\n",
        "        tokens = tokens[:max_length-1] + ['[SEP]']\n",
        "\n",
        "    input_id = tokenizer.convert_tokens_to_ids(tokens)\n",
        "    mask = [1] * len(input_id)\n",
        "    input_type = [0] * (1 + len(quest_toks) + 1) + [1] * (len(text_toks) + 1)\n",
        "\n",
        "    # Pad sequences to max_length\n",
        "    padding_length = max_length - len(input_id)\n",
        "    input_id = input_id + [0] * padding_length\n",
        "    mask = mask + [0] * padding_length\n",
        "    input_type = input_type + [0] * padding_length\n",
        "\n",
        "    # Convert to tensors\n",
        "    input_id = tf.convert_to_tensor(input_id, dtype=tf.int32)\n",
        "    mask = tf.convert_to_tensor(mask, dtype=tf.int32)\n",
        "    input_type = tf.convert_to_tensor(input_type, dtype=tf.int32)\n",
        "\n",
        "    return input_id, mask, input_type"
      ],
      "metadata": {
        "id": "aW1SFzUAf2vN"
      },
      "execution_count": 27,
      "outputs": []
    },
    {
      "cell_type": "code",
      "source": [
        "# Function for semantic search using Universal Sentence Encoder (USE)\n",
        "\n",
        "# Load the Universal Sentence Encoder model\n",
        "use_model = hub.load(\"https://tfhub.dev/google/universal-sentence-encoder/4\")\n",
        "\n",
        "def semantic_search(corpus, query):\n",
        "    query_embedding = use_model([query])[0]\n",
        "    corpus_embeddings = use_model(corpus)\n",
        "    similarity = np.inner(query_embedding, corpus_embeddings)\n",
        "    closest = np.argmax(similarity)\n",
        "    return corpus[closest]\n",
        "\n",
        "# Example usage of semantic search\n",
        "data = pd.read_csv('/content/drive/MyDrive/AutsimChatbox_datatset.csv')\n",
        "corpus = data['Patterns'].apply(preprocess_text).tolist()\n",
        "query = \"How does autism affect sleep patterns?\"\n",
        "\n",
        "most_similar_text = semantic_search(corpus, query)\n",
        "print(\"Most similar text:\", most_similar_text)"
      ],
      "metadata": {
        "id": "epKB-KBf23yD",
        "colab": {
          "base_uri": "https://localhost:8080/"
        },
        "outputId": "e49004da-d670-44fa-8fba-47e4ab1800ab"
      },
      "execution_count": 30,
      "outputs": [
        {
          "output_type": "stream",
          "name": "stdout",
          "text": [
            "Most similar text: how does autism impact sleep\n"
          ]
        }
      ]
    },
    {
      "cell_type": "code",
      "source": [
        "# Function to evaluate the model\n",
        "def evaluate_model(model, val_dataset, df):\n",
        "    predictions = []\n",
        "    labels = []\n",
        "\n",
        "    for batch in val_dataset:\n",
        "        inputs, batch_labels = batch\n",
        "        batch_predictions = model(inputs)\n",
        "        batch_predictions = tf.argmax(batch_predictions.logits, axis=-1).numpy()\n",
        "\n",
        "        predictions.extend(batch_predictions)\n",
        "        labels.extend(batch_labels.numpy())\n",
        "\n",
        "    # Get ALL unique labels from the DataFrame (in the original order)\n",
        "    target_names = df['Answers'].unique()\n",
        "\n",
        "    # Filter predictions and labels to include only classes present in the validation set\n",
        "    unique_labels_in_val = np.unique(labels)\n",
        "    valid_indices = np.isin(predictions, unique_labels_in_val)\n",
        "    predictions = np.array(predictions)[valid_indices]\n",
        "    labels = np.array(labels)[valid_indices]\n",
        "\n",
        "    # Only include target names for the unique labels present in the validation set\n",
        "    target_names_in_val = target_names[unique_labels_in_val]\n",
        "\n",
        "    if len(predictions) > 0: # Check if there are any valid predictions\n",
        "        report = classification_report(labels, predictions, target_names=target_names_in_val)\n",
        "        print(report)\n",
        "    else:\n",
        "        print(\"No valid predictions to evaluate.\")"
      ],
      "metadata": {
        "id": "CI7zs-vcHo9S"
      },
      "execution_count": 31,
      "outputs": []
    },
    {
      "cell_type": "code",
      "source": [
        "# Function to predict the answer based on a question\n",
        "def predict(model, question, df):\n",
        "    inputs = tokenizer(question, return_tensors='tf', truncation=True, padding=True)\n",
        "    outputs = model(inputs)\n",
        "    prediction = tf.argmax(outputs.logits, axis=-1).numpy()\n",
        "\n",
        "    # Use df to get the answer\n",
        "    answer = df['Answers'].unique()[prediction[0]]\n",
        "    return answer"
      ],
      "metadata": {
        "id": "KWKTDG7WjF_W"
      },
      "execution_count": 32,
      "outputs": []
    },
    {
      "cell_type": "code",
      "source": [
        "# Chatbot interface function\n",
        "def chatbot_interface(model, df):\n",
        "    print(\"Welcome to the Autism Support Chatbot!\")\n",
        "    print(\"You can ask me any questions related to autism support.\")\n",
        "    print(\"Type 'exit' to end the conversation.\")\n",
        "\n",
        "    while True:\n",
        "        question = input(\"You: \")\n",
        "        if question.lower() == 'exit':\n",
        "            print(\"Goodbye!\")\n",
        "            break\n",
        "\n",
        "        answer = predict(model, question, df)\n",
        "        print(\"Chatbot:\", answer)"
      ],
      "metadata": {
        "id": "HDKTlb3hHYzz"
      },
      "execution_count": 33,
      "outputs": []
    }
  ]
}